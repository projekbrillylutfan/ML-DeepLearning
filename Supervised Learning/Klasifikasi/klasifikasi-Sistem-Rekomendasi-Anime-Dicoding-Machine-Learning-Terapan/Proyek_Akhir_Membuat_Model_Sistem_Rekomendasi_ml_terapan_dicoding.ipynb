{
  "nbformat": 4,
  "nbformat_minor": 0,
  "metadata": {
    "colab": {
      "provenance": [],
      "gpuType": "T4",
      "toc_visible": true
    },
    "kernelspec": {
      "name": "python3",
      "display_name": "Python 3"
    },
    "language_info": {
      "name": "python"
    },
    "accelerator": "GPU"
  },
  "cells": [
    {
      "cell_type": "markdown",
      "source": [
        "# Proyek Akhir Submission (Sistem Rekomendasi Anime)\n",
        "Disusun oleh : Brilly Lutfan Qasthari\n",
        "Laporan tentang hasil dokumentasi submission terakhir bertema Sistem Rekomendasi menggunakan *Content-based Filtering* dan *Collaborative Filtering*.\n",
        "## Project Overview\n",
        "\n",
        "Dalam beberapa tahun terakhir, anime telah menjadi fenomena global dan semakin populer di kalangan pecinta hiburan. Dengan peningkatan popularitas ini, jumlah anime yang bisa ditonton juga meningkat pesat. Namun, dengan banyaknya pilihan anime, pengguna seringkali kesulitan menemukan anime yang sesuai dengan minat dan preferensi mereka. Hal ini dapat membuat pengguna bingung, membuang waktu, bahkan frustasi dalam mencari anime yang diinginkan. \n",
        "\n",
        "Dalam konteks ini, sistem rekomendasi anime sangatlah penting. Sistem ini dapat membantu pengguna menemukan anime baru yang sesuai dengan minat, mengurangi kebingungan dalam memilih, dan memperluas wawasan anime. Dengan menggunakan teknik dan algoritma yang tepat, sistem rekomendasi anime dapat memberikan rekomendasi yang dipersonalisasi dan relevan kepada pengguna, sehingga meningkatkan pengalaman menonton dan kepuasan pengguna [[1](https://ojs.unud.ac.id/index.php/jnatia/article/download/92636/47032/)]. \n",
        "\n",
        "Sistem rekomendasi anime adalah sistem yang merekomendasikan anime kepada pengguna berdasarkan preferensi mereka. Sistem ini dapat membantu pengguna menemukan anime yang sesuai dengan selera. Latar belakang masalah yang dihadapi dalam pengembangan sistem rekomendasi anime adalah kurangnya kualitas informasi yang baik dan keterbatasan jumlah informasi [[2](https://repository.upnvj.ac.id/2016/1/AWAL.pdf)]. \n",
        "\n",
        "Oleh karena itu, pengembangan sistem rekomendasi anime sangat menarik untuk diteliti lebih lanjut. Sistem rekomendasi menawarkan berbagai manfaat yang dapat dicapai baik oleh pengguna maupun pengusaha. Oleh karena itu, sangat penting untuk dikembangkan lebih lanjut, terutama di saat informasi dan data berkembang dengan sangat cepat. Dalam proyek ini saya juga fokus pada pengembangan sistem rekomendasi anime. "
      ],
      "metadata": {
        "id": "AmqRmyhOPRq-"
      }
    },
    {
      "cell_type": "code",
      "execution_count": null,
      "metadata": {
        "id": "KuL4z9vjlGNJ"
      },
      "outputs": [],
      "source": [
        "import numpy as np\n",
        "import matplotlib.pyplot as plt\n",
        "import pandas as pd\n",
        "%matplotlib inline\n",
        "import seaborn as sns"
      ]
    },
    {
      "cell_type": "code",
      "source": [
        "!git clone https://github.com/projekbrillylutfan/kumpulan_dataset"
      ],
      "metadata": {
        "colab": {
          "base_uri": "https://localhost:8080/"
        },
        "id": "T0-gqgallX0b",
        "outputId": "f9a06172-9363-401a-aea0-efcb286f0e72"
      },
      "execution_count": null,
      "outputs": [
        {
          "output_type": "stream",
          "name": "stdout",
          "text": [
            "Cloning into 'kumpulan_dataset'...\n",
            "remote: Enumerating objects: 19, done.\u001b[K\n",
            "remote: Counting objects: 100% (19/19), done.\u001b[K\n",
            "remote: Compressing objects: 100% (17/17), done.\u001b[K\n",
            "remote: Total 19 (delta 3), reused 13 (delta 1), pack-reused 0\u001b[K\n",
            "Unpacking objects: 100% (19/19), 25.75 MiB | 2.30 MiB/s, done.\n",
            "Updating files: 100% (5/5), done.\n"
          ]
        }
      ]
    },
    {
      "cell_type": "code",
      "source": [
        "anime_ovrl = pd.read_csv(\"/content/kumpulan_dataset/Anime Dataset Rekomen/anime.csv\")\n",
        "rtg_anime = pd.read_csv(\"/content/kumpulan_dataset/Anime Dataset Rekomen/rating.csv\")"
      ],
      "metadata": {
        "id": "fxvLC9i_lu-Y"
      },
      "execution_count": null,
      "outputs": []
    },
    {
      "cell_type": "markdown",
      "source": [
        "## Business Understanding\n",
        "\n",
        "Dalam bisnis, sistem rekomendasi anime memiliki potensi besar untuk meningkatkan pengalaman pengguna, meningkatkan pangsa pasar, dan meningkatkan keterlibatan pengguna dalam industri anime. Berikut adalah beberapa aspek bisnis dari sistem rekomendasi anime seperti: \n",
        "\n",
        "1. **Personalisasi dan Pengalaman Pengguna yang Lebih Baik**\n",
        "   Dengan menggunakan sistem rekomendasi anime, perusahaan dapat menawarkan pengalaman yang lebih personal dan relevan kepada pengguna. Dengan memahami preferensi pengguna, sistem dapat merekomendasikan anime berdasarkan minat mereka. Hal ini dapat meningkatkan kepuasan pengguna, meningkatkan waktu yang dihabiskan pengguna untuk menonton anime, dan meningkatkan loyalitas pengguna terhadap platform atau layanan yang memberikan rekomendasi tersebut.\n",
        "2. **Meningkatkan Retensi Pengguna**\n",
        "   Dalam industri yang penuh dengan pilihan anime, retensi pengguna menjadi faktor kunci kesuksesan bisnis. Sistem rekomendasi anime dapat membantu mempertahankan pengguna dengan terus memberikan rekomendasi yang relevan. Dengan mempertahankan pengguna yang ada, organisasi dapat meningkatkan nilai seumur hidup pengguna dan mengurangi churn. \n",
        "3. **Diversifikasi Penonton dan Mempengaruhi Pembelian**\n",
        "   Sistem rekomendasi anime dapat membantu bisnis mengatasi tantangan dalam menjangkau audiens yang berbeda. Dengan menganalisis preferensi dan perilaku pengguna, sistem dapat merekomendasikan anime yang mungkin tidak diketahui pengguna atau yang berada di luar zona nyaman mereka. Ini dapat membantu perusahaan memperluas audiens mereka, memperkenalkan anime baru kepada pengguna, dan bahkan memengaruhi keputusan pembelian dalam bentuk pesanan barang dagangan, DVD, atau layanan streaming.\n",
        "\n",
        "### Problem Statements\n",
        "\n",
        "Berdasarkan masalah yang telah dijelaskan sebelumnya, masalah utama untuk proyek ini adalah sebagai berikut.\n",
        "- Apakah sistem dapat memberikan rekomendasi yang relevan ?\n",
        "- Bagaimana performa model dalam memprediksi rekomendasi untuk user ?\n",
        "\n",
        "### Goals\n",
        "\n",
        "Adapun tujuan yang dicapai oleh proyek ini sebagai berikut:\n",
        "- Menghasilkan sebuha model sistem rekomendasi berbasis konten untuk memprediksi rekomendasi pengguna.\n",
        "- Menghasilkan sebuha model sistem rekomendasi berbasis *collaborative filtering* untuk memprediksi rekomendasi pengguna.\n",
        "\n",
        "### Solution statements\n",
        "\n",
        "Adapun solusi yang dapat diberikan untuk proyek ini meliputi:\n",
        "- Membuat sebuah sistem rekomendasi berbasis *Content-based Filtering* berdasarkan data genre anime.\n",
        "- Membuat sebuah sistem rekomendasi berbasis *Collaborative Filtering* berdasarkan data rating anime yang telah diberikan oleh user."
      ],
      "metadata": {
        "id": "qCuCM_AOPX0U"
      }
    },
    {
      "cell_type": "code",
      "source": [
        "anime_ovrl"
      ],
      "metadata": {
        "colab": {
          "base_uri": "https://localhost:8080/",
          "height": 423
        },
        "id": "1wsMPV1JmEiS",
        "outputId": "adcfba1f-6226-400a-8a07-8d9351c45613"
      },
      "execution_count": null,
      "outputs": [
        {
          "output_type": "execute_result",
          "data": {
            "text/plain": [
              "       anime_id                                               name  \\\n",
              "0         32281                                     Kimi no Na wa.   \n",
              "1          5114                   Fullmetal Alchemist: Brotherhood   \n",
              "2         28977                                           Gintama°   \n",
              "3          9253                                        Steins;Gate   \n",
              "4          9969                                      Gintama&#039;   \n",
              "...         ...                                                ...   \n",
              "12289      9316       Toushindai My Lover: Minami tai Mecha-Minami   \n",
              "12290      5543                                        Under World   \n",
              "12291      5621                     Violence Gekiga David no Hoshi   \n",
              "12292      6133  Violence Gekiga Shin David no Hoshi: Inma Dens...   \n",
              "12293     26081                   Yasuji no Pornorama: Yacchimae!!   \n",
              "\n",
              "                                                   genre   type episodes  \\\n",
              "0                   Drama, Romance, School, Supernatural  Movie        1   \n",
              "1      Action, Adventure, Drama, Fantasy, Magic, Mili...     TV       64   \n",
              "2      Action, Comedy, Historical, Parody, Samurai, S...     TV       51   \n",
              "3                                       Sci-Fi, Thriller     TV       24   \n",
              "4      Action, Comedy, Historical, Parody, Samurai, S...     TV       51   \n",
              "...                                                  ...    ...      ...   \n",
              "12289                                             Hentai    OVA        1   \n",
              "12290                                             Hentai    OVA        1   \n",
              "12291                                             Hentai    OVA        4   \n",
              "12292                                             Hentai    OVA        1   \n",
              "12293                                             Hentai  Movie        1   \n",
              "\n",
              "       rating  members  \n",
              "0        9.37   200630  \n",
              "1        9.26   793665  \n",
              "2        9.25   114262  \n",
              "3        9.17   673572  \n",
              "4        9.16   151266  \n",
              "...       ...      ...  \n",
              "12289    4.15      211  \n",
              "12290    4.28      183  \n",
              "12291    4.88      219  \n",
              "12292    4.98      175  \n",
              "12293    5.46      142  \n",
              "\n",
              "[12294 rows x 7 columns]"
            ],
            "text/html": [
              "\n",
              "  <div id=\"df-ffffb74b-76b1-4b56-8d76-ee3468c22b6e\">\n",
              "    <div class=\"colab-df-container\">\n",
              "      <div>\n",
              "<style scoped>\n",
              "    .dataframe tbody tr th:only-of-type {\n",
              "        vertical-align: middle;\n",
              "    }\n",
              "\n",
              "    .dataframe tbody tr th {\n",
              "        vertical-align: top;\n",
              "    }\n",
              "\n",
              "    .dataframe thead th {\n",
              "        text-align: right;\n",
              "    }\n",
              "</style>\n",
              "<table border=\"1\" class=\"dataframe\">\n",
              "  <thead>\n",
              "    <tr style=\"text-align: right;\">\n",
              "      <th></th>\n",
              "      <th>anime_id</th>\n",
              "      <th>name</th>\n",
              "      <th>genre</th>\n",
              "      <th>type</th>\n",
              "      <th>episodes</th>\n",
              "      <th>rating</th>\n",
              "      <th>members</th>\n",
              "    </tr>\n",
              "  </thead>\n",
              "  <tbody>\n",
              "    <tr>\n",
              "      <th>0</th>\n",
              "      <td>32281</td>\n",
              "      <td>Kimi no Na wa.</td>\n",
              "      <td>Drama, Romance, School, Supernatural</td>\n",
              "      <td>Movie</td>\n",
              "      <td>1</td>\n",
              "      <td>9.37</td>\n",
              "      <td>200630</td>\n",
              "    </tr>\n",
              "    <tr>\n",
              "      <th>1</th>\n",
              "      <td>5114</td>\n",
              "      <td>Fullmetal Alchemist: Brotherhood</td>\n",
              "      <td>Action, Adventure, Drama, Fantasy, Magic, Mili...</td>\n",
              "      <td>TV</td>\n",
              "      <td>64</td>\n",
              "      <td>9.26</td>\n",
              "      <td>793665</td>\n",
              "    </tr>\n",
              "    <tr>\n",
              "      <th>2</th>\n",
              "      <td>28977</td>\n",
              "      <td>Gintama°</td>\n",
              "      <td>Action, Comedy, Historical, Parody, Samurai, S...</td>\n",
              "      <td>TV</td>\n",
              "      <td>51</td>\n",
              "      <td>9.25</td>\n",
              "      <td>114262</td>\n",
              "    </tr>\n",
              "    <tr>\n",
              "      <th>3</th>\n",
              "      <td>9253</td>\n",
              "      <td>Steins;Gate</td>\n",
              "      <td>Sci-Fi, Thriller</td>\n",
              "      <td>TV</td>\n",
              "      <td>24</td>\n",
              "      <td>9.17</td>\n",
              "      <td>673572</td>\n",
              "    </tr>\n",
              "    <tr>\n",
              "      <th>4</th>\n",
              "      <td>9969</td>\n",
              "      <td>Gintama&amp;#039;</td>\n",
              "      <td>Action, Comedy, Historical, Parody, Samurai, S...</td>\n",
              "      <td>TV</td>\n",
              "      <td>51</td>\n",
              "      <td>9.16</td>\n",
              "      <td>151266</td>\n",
              "    </tr>\n",
              "    <tr>\n",
              "      <th>...</th>\n",
              "      <td>...</td>\n",
              "      <td>...</td>\n",
              "      <td>...</td>\n",
              "      <td>...</td>\n",
              "      <td>...</td>\n",
              "      <td>...</td>\n",
              "      <td>...</td>\n",
              "    </tr>\n",
              "    <tr>\n",
              "      <th>12289</th>\n",
              "      <td>9316</td>\n",
              "      <td>Toushindai My Lover: Minami tai Mecha-Minami</td>\n",
              "      <td>Hentai</td>\n",
              "      <td>OVA</td>\n",
              "      <td>1</td>\n",
              "      <td>4.15</td>\n",
              "      <td>211</td>\n",
              "    </tr>\n",
              "    <tr>\n",
              "      <th>12290</th>\n",
              "      <td>5543</td>\n",
              "      <td>Under World</td>\n",
              "      <td>Hentai</td>\n",
              "      <td>OVA</td>\n",
              "      <td>1</td>\n",
              "      <td>4.28</td>\n",
              "      <td>183</td>\n",
              "    </tr>\n",
              "    <tr>\n",
              "      <th>12291</th>\n",
              "      <td>5621</td>\n",
              "      <td>Violence Gekiga David no Hoshi</td>\n",
              "      <td>Hentai</td>\n",
              "      <td>OVA</td>\n",
              "      <td>4</td>\n",
              "      <td>4.88</td>\n",
              "      <td>219</td>\n",
              "    </tr>\n",
              "    <tr>\n",
              "      <th>12292</th>\n",
              "      <td>6133</td>\n",
              "      <td>Violence Gekiga Shin David no Hoshi: Inma Dens...</td>\n",
              "      <td>Hentai</td>\n",
              "      <td>OVA</td>\n",
              "      <td>1</td>\n",
              "      <td>4.98</td>\n",
              "      <td>175</td>\n",
              "    </tr>\n",
              "    <tr>\n",
              "      <th>12293</th>\n",
              "      <td>26081</td>\n",
              "      <td>Yasuji no Pornorama: Yacchimae!!</td>\n",
              "      <td>Hentai</td>\n",
              "      <td>Movie</td>\n",
              "      <td>1</td>\n",
              "      <td>5.46</td>\n",
              "      <td>142</td>\n",
              "    </tr>\n",
              "  </tbody>\n",
              "</table>\n",
              "<p>12294 rows × 7 columns</p>\n",
              "</div>\n",
              "      <button class=\"colab-df-convert\" onclick=\"convertToInteractive('df-ffffb74b-76b1-4b56-8d76-ee3468c22b6e')\"\n",
              "              title=\"Convert this dataframe to an interactive table.\"\n",
              "              style=\"display:none;\">\n",
              "        \n",
              "  <svg xmlns=\"http://www.w3.org/2000/svg\" height=\"24px\"viewBox=\"0 0 24 24\"\n",
              "       width=\"24px\">\n",
              "    <path d=\"M0 0h24v24H0V0z\" fill=\"none\"/>\n",
              "    <path d=\"M18.56 5.44l.94 2.06.94-2.06 2.06-.94-2.06-.94-.94-2.06-.94 2.06-2.06.94zm-11 1L8.5 8.5l.94-2.06 2.06-.94-2.06-.94L8.5 2.5l-.94 2.06-2.06.94zm10 10l.94 2.06.94-2.06 2.06-.94-2.06-.94-.94-2.06-.94 2.06-2.06.94z\"/><path d=\"M17.41 7.96l-1.37-1.37c-.4-.4-.92-.59-1.43-.59-.52 0-1.04.2-1.43.59L10.3 9.45l-7.72 7.72c-.78.78-.78 2.05 0 2.83L4 21.41c.39.39.9.59 1.41.59.51 0 1.02-.2 1.41-.59l7.78-7.78 2.81-2.81c.8-.78.8-2.07 0-2.86zM5.41 20L4 18.59l7.72-7.72 1.47 1.35L5.41 20z\"/>\n",
              "  </svg>\n",
              "      </button>\n",
              "      \n",
              "  <style>\n",
              "    .colab-df-container {\n",
              "      display:flex;\n",
              "      flex-wrap:wrap;\n",
              "      gap: 12px;\n",
              "    }\n",
              "\n",
              "    .colab-df-convert {\n",
              "      background-color: #E8F0FE;\n",
              "      border: none;\n",
              "      border-radius: 50%;\n",
              "      cursor: pointer;\n",
              "      display: none;\n",
              "      fill: #1967D2;\n",
              "      height: 32px;\n",
              "      padding: 0 0 0 0;\n",
              "      width: 32px;\n",
              "    }\n",
              "\n",
              "    .colab-df-convert:hover {\n",
              "      background-color: #E2EBFA;\n",
              "      box-shadow: 0px 1px 2px rgba(60, 64, 67, 0.3), 0px 1px 3px 1px rgba(60, 64, 67, 0.15);\n",
              "      fill: #174EA6;\n",
              "    }\n",
              "\n",
              "    [theme=dark] .colab-df-convert {\n",
              "      background-color: #3B4455;\n",
              "      fill: #D2E3FC;\n",
              "    }\n",
              "\n",
              "    [theme=dark] .colab-df-convert:hover {\n",
              "      background-color: #434B5C;\n",
              "      box-shadow: 0px 1px 3px 1px rgba(0, 0, 0, 0.15);\n",
              "      filter: drop-shadow(0px 1px 2px rgba(0, 0, 0, 0.3));\n",
              "      fill: #FFFFFF;\n",
              "    }\n",
              "  </style>\n",
              "\n",
              "      <script>\n",
              "        const buttonEl =\n",
              "          document.querySelector('#df-ffffb74b-76b1-4b56-8d76-ee3468c22b6e button.colab-df-convert');\n",
              "        buttonEl.style.display =\n",
              "          google.colab.kernel.accessAllowed ? 'block' : 'none';\n",
              "\n",
              "        async function convertToInteractive(key) {\n",
              "          const element = document.querySelector('#df-ffffb74b-76b1-4b56-8d76-ee3468c22b6e');\n",
              "          const dataTable =\n",
              "            await google.colab.kernel.invokeFunction('convertToInteractive',\n",
              "                                                     [key], {});\n",
              "          if (!dataTable) return;\n",
              "\n",
              "          const docLinkHtml = 'Like what you see? Visit the ' +\n",
              "            '<a target=\"_blank\" href=https://colab.research.google.com/notebooks/data_table.ipynb>data table notebook</a>'\n",
              "            + ' to learn more about interactive tables.';\n",
              "          element.innerHTML = '';\n",
              "          dataTable['output_type'] = 'display_data';\n",
              "          await google.colab.output.renderOutput(dataTable, element);\n",
              "          const docLink = document.createElement('div');\n",
              "          docLink.innerHTML = docLinkHtml;\n",
              "          element.appendChild(docLink);\n",
              "        }\n",
              "      </script>\n",
              "    </div>\n",
              "  </div>\n",
              "  "
            ]
          },
          "metadata": {},
          "execution_count": 4
        }
      ]
    },
    {
      "cell_type": "code",
      "source": [
        "anime_ovrl.shape"
      ],
      "metadata": {
        "colab": {
          "base_uri": "https://localhost:8080/"
        },
        "id": "vAj35Ab8mKk6",
        "outputId": "e5bd5478-66fe-4860-83ff-7d1c1b7970e3"
      },
      "execution_count": null,
      "outputs": [
        {
          "output_type": "execute_result",
          "data": {
            "text/plain": [
              "(12294, 7)"
            ]
          },
          "metadata": {},
          "execution_count": 5
        }
      ]
    },
    {
      "cell_type": "code",
      "source": [
        "rtg_anime"
      ],
      "metadata": {
        "colab": {
          "base_uri": "https://localhost:8080/",
          "height": 423
        },
        "id": "PScdpUpmmPuv",
        "outputId": "985b18ec-03e7-4b92-9b49-1c0446b69a90"
      },
      "execution_count": null,
      "outputs": [
        {
          "output_type": "execute_result",
          "data": {
            "text/plain": [
              "         user_id  anime_id  rating\n",
              "0              1        20      -1\n",
              "1              1        24      -1\n",
              "2              1        79      -1\n",
              "3              1       226      -1\n",
              "4              1       241      -1\n",
              "...          ...       ...     ...\n",
              "7813732    73515     16512       7\n",
              "7813733    73515     17187       9\n",
              "7813734    73515     22145      10\n",
              "7813735    73516       790       9\n",
              "7813736    73516      8074       9\n",
              "\n",
              "[7813737 rows x 3 columns]"
            ],
            "text/html": [
              "\n",
              "  <div id=\"df-5ec5479b-3124-4e82-aa8a-30353aaba6c5\">\n",
              "    <div class=\"colab-df-container\">\n",
              "      <div>\n",
              "<style scoped>\n",
              "    .dataframe tbody tr th:only-of-type {\n",
              "        vertical-align: middle;\n",
              "    }\n",
              "\n",
              "    .dataframe tbody tr th {\n",
              "        vertical-align: top;\n",
              "    }\n",
              "\n",
              "    .dataframe thead th {\n",
              "        text-align: right;\n",
              "    }\n",
              "</style>\n",
              "<table border=\"1\" class=\"dataframe\">\n",
              "  <thead>\n",
              "    <tr style=\"text-align: right;\">\n",
              "      <th></th>\n",
              "      <th>user_id</th>\n",
              "      <th>anime_id</th>\n",
              "      <th>rating</th>\n",
              "    </tr>\n",
              "  </thead>\n",
              "  <tbody>\n",
              "    <tr>\n",
              "      <th>0</th>\n",
              "      <td>1</td>\n",
              "      <td>20</td>\n",
              "      <td>-1</td>\n",
              "    </tr>\n",
              "    <tr>\n",
              "      <th>1</th>\n",
              "      <td>1</td>\n",
              "      <td>24</td>\n",
              "      <td>-1</td>\n",
              "    </tr>\n",
              "    <tr>\n",
              "      <th>2</th>\n",
              "      <td>1</td>\n",
              "      <td>79</td>\n",
              "      <td>-1</td>\n",
              "    </tr>\n",
              "    <tr>\n",
              "      <th>3</th>\n",
              "      <td>1</td>\n",
              "      <td>226</td>\n",
              "      <td>-1</td>\n",
              "    </tr>\n",
              "    <tr>\n",
              "      <th>4</th>\n",
              "      <td>1</td>\n",
              "      <td>241</td>\n",
              "      <td>-1</td>\n",
              "    </tr>\n",
              "    <tr>\n",
              "      <th>...</th>\n",
              "      <td>...</td>\n",
              "      <td>...</td>\n",
              "      <td>...</td>\n",
              "    </tr>\n",
              "    <tr>\n",
              "      <th>7813732</th>\n",
              "      <td>73515</td>\n",
              "      <td>16512</td>\n",
              "      <td>7</td>\n",
              "    </tr>\n",
              "    <tr>\n",
              "      <th>7813733</th>\n",
              "      <td>73515</td>\n",
              "      <td>17187</td>\n",
              "      <td>9</td>\n",
              "    </tr>\n",
              "    <tr>\n",
              "      <th>7813734</th>\n",
              "      <td>73515</td>\n",
              "      <td>22145</td>\n",
              "      <td>10</td>\n",
              "    </tr>\n",
              "    <tr>\n",
              "      <th>7813735</th>\n",
              "      <td>73516</td>\n",
              "      <td>790</td>\n",
              "      <td>9</td>\n",
              "    </tr>\n",
              "    <tr>\n",
              "      <th>7813736</th>\n",
              "      <td>73516</td>\n",
              "      <td>8074</td>\n",
              "      <td>9</td>\n",
              "    </tr>\n",
              "  </tbody>\n",
              "</table>\n",
              "<p>7813737 rows × 3 columns</p>\n",
              "</div>\n",
              "      <button class=\"colab-df-convert\" onclick=\"convertToInteractive('df-5ec5479b-3124-4e82-aa8a-30353aaba6c5')\"\n",
              "              title=\"Convert this dataframe to an interactive table.\"\n",
              "              style=\"display:none;\">\n",
              "        \n",
              "  <svg xmlns=\"http://www.w3.org/2000/svg\" height=\"24px\"viewBox=\"0 0 24 24\"\n",
              "       width=\"24px\">\n",
              "    <path d=\"M0 0h24v24H0V0z\" fill=\"none\"/>\n",
              "    <path d=\"M18.56 5.44l.94 2.06.94-2.06 2.06-.94-2.06-.94-.94-2.06-.94 2.06-2.06.94zm-11 1L8.5 8.5l.94-2.06 2.06-.94-2.06-.94L8.5 2.5l-.94 2.06-2.06.94zm10 10l.94 2.06.94-2.06 2.06-.94-2.06-.94-.94-2.06-.94 2.06-2.06.94z\"/><path d=\"M17.41 7.96l-1.37-1.37c-.4-.4-.92-.59-1.43-.59-.52 0-1.04.2-1.43.59L10.3 9.45l-7.72 7.72c-.78.78-.78 2.05 0 2.83L4 21.41c.39.39.9.59 1.41.59.51 0 1.02-.2 1.41-.59l7.78-7.78 2.81-2.81c.8-.78.8-2.07 0-2.86zM5.41 20L4 18.59l7.72-7.72 1.47 1.35L5.41 20z\"/>\n",
              "  </svg>\n",
              "      </button>\n",
              "      \n",
              "  <style>\n",
              "    .colab-df-container {\n",
              "      display:flex;\n",
              "      flex-wrap:wrap;\n",
              "      gap: 12px;\n",
              "    }\n",
              "\n",
              "    .colab-df-convert {\n",
              "      background-color: #E8F0FE;\n",
              "      border: none;\n",
              "      border-radius: 50%;\n",
              "      cursor: pointer;\n",
              "      display: none;\n",
              "      fill: #1967D2;\n",
              "      height: 32px;\n",
              "      padding: 0 0 0 0;\n",
              "      width: 32px;\n",
              "    }\n",
              "\n",
              "    .colab-df-convert:hover {\n",
              "      background-color: #E2EBFA;\n",
              "      box-shadow: 0px 1px 2px rgba(60, 64, 67, 0.3), 0px 1px 3px 1px rgba(60, 64, 67, 0.15);\n",
              "      fill: #174EA6;\n",
              "    }\n",
              "\n",
              "    [theme=dark] .colab-df-convert {\n",
              "      background-color: #3B4455;\n",
              "      fill: #D2E3FC;\n",
              "    }\n",
              "\n",
              "    [theme=dark] .colab-df-convert:hover {\n",
              "      background-color: #434B5C;\n",
              "      box-shadow: 0px 1px 3px 1px rgba(0, 0, 0, 0.15);\n",
              "      filter: drop-shadow(0px 1px 2px rgba(0, 0, 0, 0.3));\n",
              "      fill: #FFFFFF;\n",
              "    }\n",
              "  </style>\n",
              "\n",
              "      <script>\n",
              "        const buttonEl =\n",
              "          document.querySelector('#df-5ec5479b-3124-4e82-aa8a-30353aaba6c5 button.colab-df-convert');\n",
              "        buttonEl.style.display =\n",
              "          google.colab.kernel.accessAllowed ? 'block' : 'none';\n",
              "\n",
              "        async function convertToInteractive(key) {\n",
              "          const element = document.querySelector('#df-5ec5479b-3124-4e82-aa8a-30353aaba6c5');\n",
              "          const dataTable =\n",
              "            await google.colab.kernel.invokeFunction('convertToInteractive',\n",
              "                                                     [key], {});\n",
              "          if (!dataTable) return;\n",
              "\n",
              "          const docLinkHtml = 'Like what you see? Visit the ' +\n",
              "            '<a target=\"_blank\" href=https://colab.research.google.com/notebooks/data_table.ipynb>data table notebook</a>'\n",
              "            + ' to learn more about interactive tables.';\n",
              "          element.innerHTML = '';\n",
              "          dataTable['output_type'] = 'display_data';\n",
              "          await google.colab.output.renderOutput(dataTable, element);\n",
              "          const docLink = document.createElement('div');\n",
              "          docLink.innerHTML = docLinkHtml;\n",
              "          element.appendChild(docLink);\n",
              "        }\n",
              "      </script>\n",
              "    </div>\n",
              "  </div>\n",
              "  "
            ]
          },
          "metadata": {},
          "execution_count": 6
        }
      ]
    },
    {
      "cell_type": "code",
      "source": [
        "rtg_anime.shape"
      ],
      "metadata": {
        "colab": {
          "base_uri": "https://localhost:8080/"
        },
        "id": "pCshbllgmTNt",
        "outputId": "5871a88d-36e7-4bd9-bdcf-41ba2f0f3fe9"
      },
      "execution_count": null,
      "outputs": [
        {
          "output_type": "execute_result",
          "data": {
            "text/plain": [
              "(7813737, 3)"
            ]
          },
          "metadata": {},
          "execution_count": 7
        }
      ]
    },
    {
      "cell_type": "code",
      "source": [
        "print('Jumlah data anime di dalam database : ', len(anime_ovrl.anime_id.unique()))\n",
        "print('Jumlah data rating anime dalam database: ', len(rtg_anime.user_id.unique()))"
      ],
      "metadata": {
        "colab": {
          "base_uri": "https://localhost:8080/"
        },
        "id": "W3G_XGyimiKz",
        "outputId": "32b303df-b379-48f8-effc-2f4355dfdca9"
      },
      "execution_count": null,
      "outputs": [
        {
          "output_type": "stream",
          "name": "stdout",
          "text": [
            "Jumlah data anime di dalam database :  12294\n",
            "Jumlah data rating anime dalam database:  73515\n"
          ]
        }
      ]
    },
    {
      "cell_type": "code",
      "source": [
        "print('Jumlah data genre anime dalam database: ', len(anime_ovrl.genre.unique()))\n",
        "print('Jumlah data tipe anime dalam database: ', len(anime_ovrl.type.unique()))"
      ],
      "metadata": {
        "colab": {
          "base_uri": "https://localhost:8080/"
        },
        "id": "sj_K8wLinZ2P",
        "outputId": "d8f114c6-4af2-4a67-d4ca-549c24271621"
      },
      "execution_count": null,
      "outputs": [
        {
          "output_type": "stream",
          "name": "stdout",
          "text": [
            "Jumlah data genre anime dalam database:  3265\n",
            "Jumlah data tipe anime dalam database:  7\n"
          ]
        }
      ]
    },
    {
      "cell_type": "markdown",
      "source": [
        "# **Data Understanding**\n",
        "Dataset yang digunakan dalam proyek ini adalah daftar judul anime dengan fitur, jumlah penggemar, dan rata-rata rating pengguna. Dataset dapat di unduh [disini](https://github.com/projekbrillylutfan/kumpulan_dataset/tree/main/Anime%20Dataset%20Rekomen), Kumpulan data ini berisi informasi data preferensi pengguna dari 73.516 pengguna di 12.294 anime. Setiap pengguna dapat menambahkan anime ke daftar lengkap mereka dan memberikannya peringkat dan kumpulan data ini adalah kompilasi dari peringkat tersebut.\n",
        "\n",
        "variabel pada data `anime.csv` meliputi :\n",
        "* `anime_id` = id unik untuk data ini.\n",
        "* `name` = judul anime secara lengkap.\n",
        "* `genre` = genre anime secara lengkap.\n",
        "* `type` = tipe tayang anime.\n",
        "* `episodes` = jumlah episode anime.\n",
        "* `rating` = rata-rata rating anime.\n",
        "* `members` = jumlah komunitas member di setiap anime.\n",
        "\n",
        "variabel pada data `rating.csv` meliputi :\n",
        "* `user_id ` = id unik untuk user.\n",
        "* `anime_id ` = id untuk user yang telah voting.\n",
        "* `rating ` = rentang rating dari 1 sampai 10."
      ],
      "metadata": {
        "id": "DO8RLCkSXmcE"
      }
    },
    {
      "cell_type": "code",
      "source": [
        "anime_ovrl.info()"
      ],
      "metadata": {
        "id": "gV-owp22nkyw",
        "colab": {
          "base_uri": "https://localhost:8080/"
        },
        "outputId": "ba538adb-8bbd-41f2-8923-b236fb2de27d"
      },
      "execution_count": null,
      "outputs": [
        {
          "output_type": "stream",
          "name": "stdout",
          "text": [
            "<class 'pandas.core.frame.DataFrame'>\n",
            "RangeIndex: 12294 entries, 0 to 12293\n",
            "Data columns (total 7 columns):\n",
            " #   Column    Non-Null Count  Dtype  \n",
            "---  ------    --------------  -----  \n",
            " 0   anime_id  12294 non-null  int64  \n",
            " 1   name      12294 non-null  object \n",
            " 2   genre     12232 non-null  object \n",
            " 3   type      12269 non-null  object \n",
            " 4   episodes  12294 non-null  object \n",
            " 5   rating    12064 non-null  float64\n",
            " 6   members   12294 non-null  int64  \n",
            "dtypes: float64(1), int64(2), object(4)\n",
            "memory usage: 672.5+ KB\n"
          ]
        }
      ]
    },
    {
      "cell_type": "code",
      "source": [
        "rtg_anime.info()"
      ],
      "metadata": {
        "colab": {
          "base_uri": "https://localhost:8080/"
        },
        "id": "CzfK-g1OFz98",
        "outputId": "cbf1be44-09b3-417a-d47a-7448927bdbda"
      },
      "execution_count": null,
      "outputs": [
        {
          "output_type": "stream",
          "name": "stdout",
          "text": [
            "<class 'pandas.core.frame.DataFrame'>\n",
            "RangeIndex: 7813737 entries, 0 to 7813736\n",
            "Data columns (total 3 columns):\n",
            " #   Column    Dtype\n",
            "---  ------    -----\n",
            " 0   user_id   int64\n",
            " 1   anime_id  int64\n",
            " 2   rating    int64\n",
            "dtypes: int64(3)\n",
            "memory usage: 178.8 MB\n"
          ]
        }
      ]
    },
    {
      "cell_type": "code",
      "source": [
        "anime_ovrl.isna().sum()"
      ],
      "metadata": {
        "colab": {
          "base_uri": "https://localhost:8080/"
        },
        "id": "ua7vykIeF4Xs",
        "outputId": "cafb703c-d233-433d-aa1a-2dbf3e9dd28d"
      },
      "execution_count": null,
      "outputs": [
        {
          "output_type": "execute_result",
          "data": {
            "text/plain": [
              "anime_id      0\n",
              "name          0\n",
              "genre        62\n",
              "type         25\n",
              "episodes      0\n",
              "rating      230\n",
              "members       0\n",
              "dtype: int64"
            ]
          },
          "metadata": {},
          "execution_count": 12
        }
      ]
    },
    {
      "cell_type": "code",
      "source": [
        "anime_ovrl.duplicated().sum()"
      ],
      "metadata": {
        "colab": {
          "base_uri": "https://localhost:8080/"
        },
        "id": "asijeIggF8yb",
        "outputId": "1608f920-5ab3-4457-c525-a34a1f205fb0"
      },
      "execution_count": null,
      "outputs": [
        {
          "output_type": "execute_result",
          "data": {
            "text/plain": [
              "0"
            ]
          },
          "metadata": {},
          "execution_count": 13
        }
      ]
    },
    {
      "cell_type": "code",
      "source": [
        "for col in anime_ovrl.select_dtypes(include=[np.number]).columns:\n",
        "    count = (anime_ovrl[col] == 0).sum()\n",
        "    print(f\"Nilai 0 di kolom {col} ada: {count}\")"
      ],
      "metadata": {
        "colab": {
          "base_uri": "https://localhost:8080/"
        },
        "id": "pZu96i7PGOMe",
        "outputId": "041a1af0-9b59-45fb-faf5-e3b15a78a728"
      },
      "execution_count": null,
      "outputs": [
        {
          "output_type": "stream",
          "name": "stdout",
          "text": [
            "Nilai 0 di kolom anime_id ada: 0\n",
            "Nilai 0 di kolom rating ada: 0\n",
            "Nilai 0 di kolom members ada: 0\n"
          ]
        }
      ]
    },
    {
      "cell_type": "code",
      "source": [
        "anime_ovrl.describe()"
      ],
      "metadata": {
        "colab": {
          "base_uri": "https://localhost:8080/",
          "height": 300
        },
        "id": "zRkoU-KZGb6T",
        "outputId": "2e92150d-444a-4886-f53e-145d1dce17af"
      },
      "execution_count": null,
      "outputs": [
        {
          "output_type": "execute_result",
          "data": {
            "text/plain": [
              "           anime_id        rating       members\n",
              "count  12294.000000  12064.000000  1.229400e+04\n",
              "mean   14058.221653      6.473902  1.807134e+04\n",
              "std    11455.294701      1.026746  5.482068e+04\n",
              "min        1.000000      1.670000  5.000000e+00\n",
              "25%     3484.250000      5.880000  2.250000e+02\n",
              "50%    10260.500000      6.570000  1.550000e+03\n",
              "75%    24794.500000      7.180000  9.437000e+03\n",
              "max    34527.000000     10.000000  1.013917e+06"
            ],
            "text/html": [
              "\n",
              "  <div id=\"df-18f40253-7250-42a1-a064-5ee464bdb161\">\n",
              "    <div class=\"colab-df-container\">\n",
              "      <div>\n",
              "<style scoped>\n",
              "    .dataframe tbody tr th:only-of-type {\n",
              "        vertical-align: middle;\n",
              "    }\n",
              "\n",
              "    .dataframe tbody tr th {\n",
              "        vertical-align: top;\n",
              "    }\n",
              "\n",
              "    .dataframe thead th {\n",
              "        text-align: right;\n",
              "    }\n",
              "</style>\n",
              "<table border=\"1\" class=\"dataframe\">\n",
              "  <thead>\n",
              "    <tr style=\"text-align: right;\">\n",
              "      <th></th>\n",
              "      <th>anime_id</th>\n",
              "      <th>rating</th>\n",
              "      <th>members</th>\n",
              "    </tr>\n",
              "  </thead>\n",
              "  <tbody>\n",
              "    <tr>\n",
              "      <th>count</th>\n",
              "      <td>12294.000000</td>\n",
              "      <td>12064.000000</td>\n",
              "      <td>1.229400e+04</td>\n",
              "    </tr>\n",
              "    <tr>\n",
              "      <th>mean</th>\n",
              "      <td>14058.221653</td>\n",
              "      <td>6.473902</td>\n",
              "      <td>1.807134e+04</td>\n",
              "    </tr>\n",
              "    <tr>\n",
              "      <th>std</th>\n",
              "      <td>11455.294701</td>\n",
              "      <td>1.026746</td>\n",
              "      <td>5.482068e+04</td>\n",
              "    </tr>\n",
              "    <tr>\n",
              "      <th>min</th>\n",
              "      <td>1.000000</td>\n",
              "      <td>1.670000</td>\n",
              "      <td>5.000000e+00</td>\n",
              "    </tr>\n",
              "    <tr>\n",
              "      <th>25%</th>\n",
              "      <td>3484.250000</td>\n",
              "      <td>5.880000</td>\n",
              "      <td>2.250000e+02</td>\n",
              "    </tr>\n",
              "    <tr>\n",
              "      <th>50%</th>\n",
              "      <td>10260.500000</td>\n",
              "      <td>6.570000</td>\n",
              "      <td>1.550000e+03</td>\n",
              "    </tr>\n",
              "    <tr>\n",
              "      <th>75%</th>\n",
              "      <td>24794.500000</td>\n",
              "      <td>7.180000</td>\n",
              "      <td>9.437000e+03</td>\n",
              "    </tr>\n",
              "    <tr>\n",
              "      <th>max</th>\n",
              "      <td>34527.000000</td>\n",
              "      <td>10.000000</td>\n",
              "      <td>1.013917e+06</td>\n",
              "    </tr>\n",
              "  </tbody>\n",
              "</table>\n",
              "</div>\n",
              "      <button class=\"colab-df-convert\" onclick=\"convertToInteractive('df-18f40253-7250-42a1-a064-5ee464bdb161')\"\n",
              "              title=\"Convert this dataframe to an interactive table.\"\n",
              "              style=\"display:none;\">\n",
              "        \n",
              "  <svg xmlns=\"http://www.w3.org/2000/svg\" height=\"24px\"viewBox=\"0 0 24 24\"\n",
              "       width=\"24px\">\n",
              "    <path d=\"M0 0h24v24H0V0z\" fill=\"none\"/>\n",
              "    <path d=\"M18.56 5.44l.94 2.06.94-2.06 2.06-.94-2.06-.94-.94-2.06-.94 2.06-2.06.94zm-11 1L8.5 8.5l.94-2.06 2.06-.94-2.06-.94L8.5 2.5l-.94 2.06-2.06.94zm10 10l.94 2.06.94-2.06 2.06-.94-2.06-.94-.94-2.06-.94 2.06-2.06.94z\"/><path d=\"M17.41 7.96l-1.37-1.37c-.4-.4-.92-.59-1.43-.59-.52 0-1.04.2-1.43.59L10.3 9.45l-7.72 7.72c-.78.78-.78 2.05 0 2.83L4 21.41c.39.39.9.59 1.41.59.51 0 1.02-.2 1.41-.59l7.78-7.78 2.81-2.81c.8-.78.8-2.07 0-2.86zM5.41 20L4 18.59l7.72-7.72 1.47 1.35L5.41 20z\"/>\n",
              "  </svg>\n",
              "      </button>\n",
              "      \n",
              "  <style>\n",
              "    .colab-df-container {\n",
              "      display:flex;\n",
              "      flex-wrap:wrap;\n",
              "      gap: 12px;\n",
              "    }\n",
              "\n",
              "    .colab-df-convert {\n",
              "      background-color: #E8F0FE;\n",
              "      border: none;\n",
              "      border-radius: 50%;\n",
              "      cursor: pointer;\n",
              "      display: none;\n",
              "      fill: #1967D2;\n",
              "      height: 32px;\n",
              "      padding: 0 0 0 0;\n",
              "      width: 32px;\n",
              "    }\n",
              "\n",
              "    .colab-df-convert:hover {\n",
              "      background-color: #E2EBFA;\n",
              "      box-shadow: 0px 1px 2px rgba(60, 64, 67, 0.3), 0px 1px 3px 1px rgba(60, 64, 67, 0.15);\n",
              "      fill: #174EA6;\n",
              "    }\n",
              "\n",
              "    [theme=dark] .colab-df-convert {\n",
              "      background-color: #3B4455;\n",
              "      fill: #D2E3FC;\n",
              "    }\n",
              "\n",
              "    [theme=dark] .colab-df-convert:hover {\n",
              "      background-color: #434B5C;\n",
              "      box-shadow: 0px 1px 3px 1px rgba(0, 0, 0, 0.15);\n",
              "      filter: drop-shadow(0px 1px 2px rgba(0, 0, 0, 0.3));\n",
              "      fill: #FFFFFF;\n",
              "    }\n",
              "  </style>\n",
              "\n",
              "      <script>\n",
              "        const buttonEl =\n",
              "          document.querySelector('#df-18f40253-7250-42a1-a064-5ee464bdb161 button.colab-df-convert');\n",
              "        buttonEl.style.display =\n",
              "          google.colab.kernel.accessAllowed ? 'block' : 'none';\n",
              "\n",
              "        async function convertToInteractive(key) {\n",
              "          const element = document.querySelector('#df-18f40253-7250-42a1-a064-5ee464bdb161');\n",
              "          const dataTable =\n",
              "            await google.colab.kernel.invokeFunction('convertToInteractive',\n",
              "                                                     [key], {});\n",
              "          if (!dataTable) return;\n",
              "\n",
              "          const docLinkHtml = 'Like what you see? Visit the ' +\n",
              "            '<a target=\"_blank\" href=https://colab.research.google.com/notebooks/data_table.ipynb>data table notebook</a>'\n",
              "            + ' to learn more about interactive tables.';\n",
              "          element.innerHTML = '';\n",
              "          dataTable['output_type'] = 'display_data';\n",
              "          await google.colab.output.renderOutput(dataTable, element);\n",
              "          const docLink = document.createElement('div');\n",
              "          docLink.innerHTML = docLinkHtml;\n",
              "          element.appendChild(docLink);\n",
              "        }\n",
              "      </script>\n",
              "    </div>\n",
              "  </div>\n",
              "  "
            ]
          },
          "metadata": {},
          "execution_count": 15
        }
      ]
    },
    {
      "cell_type": "code",
      "source": [
        "anime_ovrl = anime_ovrl.dropna()"
      ],
      "metadata": {
        "id": "EyYWfwU4OO1y"
      },
      "execution_count": null,
      "outputs": []
    },
    {
      "cell_type": "markdown",
      "source": [
        "# Data Preprocessing\n",
        "1. menghapus simbol pada anime.\n",
        "2. menghapus outlier pada data `anime.csv` dan `rating.csv`.\n",
        "3. menghapus data duplikat.\n",
        "4. menghapus data yang memiliki missing value."
      ],
      "metadata": {
        "id": "txduZw33PpbU"
      }
    },
    {
      "cell_type": "markdown",
      "source": [
        "## **Missing Value**"
      ],
      "metadata": {
        "id": "yFTejh6mXubH"
      }
    },
    {
      "cell_type": "code",
      "source": [
        "anime_ovrl.isna().sum()"
      ],
      "metadata": {
        "colab": {
          "base_uri": "https://localhost:8080/"
        },
        "id": "Ct0wTtqyOYmp",
        "outputId": "5937967a-ce89-4410-ebd5-ca3531c2bca6"
      },
      "execution_count": null,
      "outputs": [
        {
          "output_type": "execute_result",
          "data": {
            "text/plain": [
              "anime_id    0\n",
              "name        0\n",
              "genre       0\n",
              "type        0\n",
              "episodes    0\n",
              "rating      0\n",
              "members     0\n",
              "dtype: int64"
            ]
          },
          "metadata": {},
          "execution_count": 17
        }
      ]
    },
    {
      "cell_type": "code",
      "source": [
        "anime_ovrl.describe()"
      ],
      "metadata": {
        "colab": {
          "base_uri": "https://localhost:8080/",
          "height": 300
        },
        "id": "Fj8dty3iObZo",
        "outputId": "d83cc146-7ba6-4d79-9c99-2ea4cc30c5d0"
      },
      "execution_count": null,
      "outputs": [
        {
          "output_type": "execute_result",
          "data": {
            "text/plain": [
              "           anime_id        rating       members\n",
              "count  12017.000000  12017.000000  1.201700e+04\n",
              "mean   13638.001165      6.478264  1.834888e+04\n",
              "std    11231.076675      1.023857  5.537250e+04\n",
              "min        1.000000      1.670000  1.200000e+01\n",
              "25%     3391.000000      5.890000  2.250000e+02\n",
              "50%     9959.000000      6.570000  1.552000e+03\n",
              "75%    23729.000000      7.180000  9.588000e+03\n",
              "max    34519.000000     10.000000  1.013917e+06"
            ],
            "text/html": [
              "\n",
              "  <div id=\"df-df536dca-9063-4dbd-b818-022c6ddecc99\">\n",
              "    <div class=\"colab-df-container\">\n",
              "      <div>\n",
              "<style scoped>\n",
              "    .dataframe tbody tr th:only-of-type {\n",
              "        vertical-align: middle;\n",
              "    }\n",
              "\n",
              "    .dataframe tbody tr th {\n",
              "        vertical-align: top;\n",
              "    }\n",
              "\n",
              "    .dataframe thead th {\n",
              "        text-align: right;\n",
              "    }\n",
              "</style>\n",
              "<table border=\"1\" class=\"dataframe\">\n",
              "  <thead>\n",
              "    <tr style=\"text-align: right;\">\n",
              "      <th></th>\n",
              "      <th>anime_id</th>\n",
              "      <th>rating</th>\n",
              "      <th>members</th>\n",
              "    </tr>\n",
              "  </thead>\n",
              "  <tbody>\n",
              "    <tr>\n",
              "      <th>count</th>\n",
              "      <td>12017.000000</td>\n",
              "      <td>12017.000000</td>\n",
              "      <td>1.201700e+04</td>\n",
              "    </tr>\n",
              "    <tr>\n",
              "      <th>mean</th>\n",
              "      <td>13638.001165</td>\n",
              "      <td>6.478264</td>\n",
              "      <td>1.834888e+04</td>\n",
              "    </tr>\n",
              "    <tr>\n",
              "      <th>std</th>\n",
              "      <td>11231.076675</td>\n",
              "      <td>1.023857</td>\n",
              "      <td>5.537250e+04</td>\n",
              "    </tr>\n",
              "    <tr>\n",
              "      <th>min</th>\n",
              "      <td>1.000000</td>\n",
              "      <td>1.670000</td>\n",
              "      <td>1.200000e+01</td>\n",
              "    </tr>\n",
              "    <tr>\n",
              "      <th>25%</th>\n",
              "      <td>3391.000000</td>\n",
              "      <td>5.890000</td>\n",
              "      <td>2.250000e+02</td>\n",
              "    </tr>\n",
              "    <tr>\n",
              "      <th>50%</th>\n",
              "      <td>9959.000000</td>\n",
              "      <td>6.570000</td>\n",
              "      <td>1.552000e+03</td>\n",
              "    </tr>\n",
              "    <tr>\n",
              "      <th>75%</th>\n",
              "      <td>23729.000000</td>\n",
              "      <td>7.180000</td>\n",
              "      <td>9.588000e+03</td>\n",
              "    </tr>\n",
              "    <tr>\n",
              "      <th>max</th>\n",
              "      <td>34519.000000</td>\n",
              "      <td>10.000000</td>\n",
              "      <td>1.013917e+06</td>\n",
              "    </tr>\n",
              "  </tbody>\n",
              "</table>\n",
              "</div>\n",
              "      <button class=\"colab-df-convert\" onclick=\"convertToInteractive('df-df536dca-9063-4dbd-b818-022c6ddecc99')\"\n",
              "              title=\"Convert this dataframe to an interactive table.\"\n",
              "              style=\"display:none;\">\n",
              "        \n",
              "  <svg xmlns=\"http://www.w3.org/2000/svg\" height=\"24px\"viewBox=\"0 0 24 24\"\n",
              "       width=\"24px\">\n",
              "    <path d=\"M0 0h24v24H0V0z\" fill=\"none\"/>\n",
              "    <path d=\"M18.56 5.44l.94 2.06.94-2.06 2.06-.94-2.06-.94-.94-2.06-.94 2.06-2.06.94zm-11 1L8.5 8.5l.94-2.06 2.06-.94-2.06-.94L8.5 2.5l-.94 2.06-2.06.94zm10 10l.94 2.06.94-2.06 2.06-.94-2.06-.94-.94-2.06-.94 2.06-2.06.94z\"/><path d=\"M17.41 7.96l-1.37-1.37c-.4-.4-.92-.59-1.43-.59-.52 0-1.04.2-1.43.59L10.3 9.45l-7.72 7.72c-.78.78-.78 2.05 0 2.83L4 21.41c.39.39.9.59 1.41.59.51 0 1.02-.2 1.41-.59l7.78-7.78 2.81-2.81c.8-.78.8-2.07 0-2.86zM5.41 20L4 18.59l7.72-7.72 1.47 1.35L5.41 20z\"/>\n",
              "  </svg>\n",
              "      </button>\n",
              "      \n",
              "  <style>\n",
              "    .colab-df-container {\n",
              "      display:flex;\n",
              "      flex-wrap:wrap;\n",
              "      gap: 12px;\n",
              "    }\n",
              "\n",
              "    .colab-df-convert {\n",
              "      background-color: #E8F0FE;\n",
              "      border: none;\n",
              "      border-radius: 50%;\n",
              "      cursor: pointer;\n",
              "      display: none;\n",
              "      fill: #1967D2;\n",
              "      height: 32px;\n",
              "      padding: 0 0 0 0;\n",
              "      width: 32px;\n",
              "    }\n",
              "\n",
              "    .colab-df-convert:hover {\n",
              "      background-color: #E2EBFA;\n",
              "      box-shadow: 0px 1px 2px rgba(60, 64, 67, 0.3), 0px 1px 3px 1px rgba(60, 64, 67, 0.15);\n",
              "      fill: #174EA6;\n",
              "    }\n",
              "\n",
              "    [theme=dark] .colab-df-convert {\n",
              "      background-color: #3B4455;\n",
              "      fill: #D2E3FC;\n",
              "    }\n",
              "\n",
              "    [theme=dark] .colab-df-convert:hover {\n",
              "      background-color: #434B5C;\n",
              "      box-shadow: 0px 1px 3px 1px rgba(0, 0, 0, 0.15);\n",
              "      filter: drop-shadow(0px 1px 2px rgba(0, 0, 0, 0.3));\n",
              "      fill: #FFFFFF;\n",
              "    }\n",
              "  </style>\n",
              "\n",
              "      <script>\n",
              "        const buttonEl =\n",
              "          document.querySelector('#df-df536dca-9063-4dbd-b818-022c6ddecc99 button.colab-df-convert');\n",
              "        buttonEl.style.display =\n",
              "          google.colab.kernel.accessAllowed ? 'block' : 'none';\n",
              "\n",
              "        async function convertToInteractive(key) {\n",
              "          const element = document.querySelector('#df-df536dca-9063-4dbd-b818-022c6ddecc99');\n",
              "          const dataTable =\n",
              "            await google.colab.kernel.invokeFunction('convertToInteractive',\n",
              "                                                     [key], {});\n",
              "          if (!dataTable) return;\n",
              "\n",
              "          const docLinkHtml = 'Like what you see? Visit the ' +\n",
              "            '<a target=\"_blank\" href=https://colab.research.google.com/notebooks/data_table.ipynb>data table notebook</a>'\n",
              "            + ' to learn more about interactive tables.';\n",
              "          element.innerHTML = '';\n",
              "          dataTable['output_type'] = 'display_data';\n",
              "          await google.colab.output.renderOutput(dataTable, element);\n",
              "          const docLink = document.createElement('div');\n",
              "          docLink.innerHTML = docLinkHtml;\n",
              "          element.appendChild(docLink);\n",
              "        }\n",
              "      </script>\n",
              "    </div>\n",
              "  </div>\n",
              "  "
            ]
          },
          "metadata": {},
          "execution_count": 18
        }
      ]
    },
    {
      "cell_type": "code",
      "source": [
        "for col in anime_ovrl.select_dtypes(exclude=[np.number]).columns:\n",
        "    kate = anime_ovrl[col].value_counts()\n",
        "    print(f\"Rincian di {col} : \")\n",
        "    print(\"----------------------awal--------------------\")\n",
        "    print(kate)\n",
        "    print(\"----------------------akhir--------------------\")"
      ],
      "metadata": {
        "colab": {
          "base_uri": "https://localhost:8080/"
        },
        "id": "I2S-K7vqGjs2",
        "outputId": "88230417-6263-41de-c1be-e1a953fe32b6"
      },
      "execution_count": null,
      "outputs": [
        {
          "output_type": "stream",
          "name": "stdout",
          "text": [
            "Rincian di name : \n",
            "----------------------awal--------------------\n",
            "Shi Wan Ge Leng Xiaohua                                                                            2\n",
            "Saru Kani Gassen                                                                                   2\n",
            "CCW: Crazy Clay Wrestling                                                                          1\n",
            "Crayon Angel                                                                                       1\n",
            "Koumon-teki Juuku Ketsujiru Juke                                                                   1\n",
            "                                                                                                  ..\n",
            "Bakusou Kyoudai Let&#039;s &amp; Go!! WGP Bousou Mini Yonku Daitsuiseki                            1\n",
            "Beet the Vandel Buster Excellion                                                                   1\n",
            "Black Jack ONA                                                                                     1\n",
            "Crayon Shin-chan Manatsu no Yoru ni Ora Sanjou! Arashi wo Yobu Den-O vs. Shin-O 60-bu Special!!    1\n",
            "Yasuji no Pornorama: Yacchimae!!                                                                   1\n",
            "Name: name, Length: 12015, dtype: int64\n",
            "----------------------akhir--------------------\n",
            "Rincian di genre : \n",
            "----------------------awal--------------------\n",
            "Hentai                                                   816\n",
            "Comedy                                                   521\n",
            "Music                                                    297\n",
            "Kids                                                     197\n",
            "Comedy, Slice of Life                                    174\n",
            "                                                        ... \n",
            "Adventure, Comedy, Horror, Shounen, Supernatural           1\n",
            "Comedy, Harem, Romance, School, Seinen, Slice of Life      1\n",
            "Comedy, Ecchi, Sci-Fi, Shounen                             1\n",
            "Adventure, Shounen, Sports                                 1\n",
            "Hentai, Slice of Life                                      1\n",
            "Name: genre, Length: 3229, dtype: int64\n",
            "----------------------akhir--------------------\n",
            "Rincian di type : \n",
            "----------------------awal--------------------\n",
            "TV         3668\n",
            "OVA        3284\n",
            "Movie      2259\n",
            "Special    1670\n",
            "ONA         648\n",
            "Music       488\n",
            "Name: type, dtype: int64\n",
            "----------------------akhir--------------------\n",
            "Rincian di episodes : \n",
            "----------------------awal--------------------\n",
            "1      5571\n",
            "2      1075\n",
            "12      810\n",
            "13      571\n",
            "26      514\n",
            "       ... \n",
            "358       1\n",
            "366       1\n",
            "201       1\n",
            "172       1\n",
            "125       1\n",
            "Name: episodes, Length: 187, dtype: int64\n",
            "----------------------akhir--------------------\n"
          ]
        }
      ]
    },
    {
      "cell_type": "code",
      "source": [
        "rtg_anime.isna().sum()"
      ],
      "metadata": {
        "colab": {
          "base_uri": "https://localhost:8080/"
        },
        "id": "BYldTno8Hqnk",
        "outputId": "e3cc52e1-ec9e-4c78-857c-e7b8d0a9678b"
      },
      "execution_count": null,
      "outputs": [
        {
          "output_type": "execute_result",
          "data": {
            "text/plain": [
              "user_id     0\n",
              "anime_id    0\n",
              "rating      0\n",
              "dtype: int64"
            ]
          },
          "metadata": {},
          "execution_count": 20
        }
      ]
    },
    {
      "cell_type": "code",
      "source": [
        "rtg_anime.duplicated().sum()"
      ],
      "metadata": {
        "colab": {
          "base_uri": "https://localhost:8080/"
        },
        "id": "wqbnMgPCHsor",
        "outputId": "e1672f25-24e2-47c1-c9f1-1f17002c5693"
      },
      "execution_count": null,
      "outputs": [
        {
          "output_type": "execute_result",
          "data": {
            "text/plain": [
              "1"
            ]
          },
          "metadata": {},
          "execution_count": 21
        }
      ]
    },
    {
      "cell_type": "code",
      "source": [
        "for col in rtg_anime.select_dtypes(include=[np.number]).columns:\n",
        "    count = (rtg_anime[col] == 0).sum()\n",
        "    print(f\"Nilai 0 di kolom {col} ada: {count}\")"
      ],
      "metadata": {
        "colab": {
          "base_uri": "https://localhost:8080/"
        },
        "id": "r3gGr8i8Hw3c",
        "outputId": "f1ab6664-9db1-4d02-f122-214fc6682e20"
      },
      "execution_count": null,
      "outputs": [
        {
          "output_type": "stream",
          "name": "stdout",
          "text": [
            "Nilai 0 di kolom user_id ada: 0\n",
            "Nilai 0 di kolom anime_id ada: 0\n",
            "Nilai 0 di kolom rating ada: 0\n"
          ]
        }
      ]
    },
    {
      "cell_type": "code",
      "source": [
        "rtg_anime.drop_duplicates(keep='first',inplace=True)"
      ],
      "metadata": {
        "id": "jcC3-q5AOoah"
      },
      "execution_count": null,
      "outputs": []
    },
    {
      "cell_type": "code",
      "source": [
        "rtg_anime.duplicated().sum()"
      ],
      "metadata": {
        "colab": {
          "base_uri": "https://localhost:8080/"
        },
        "id": "3rlmI_HnOsdx",
        "outputId": "168489ff-d3a5-4cc0-8bc3-fc342313fe35"
      },
      "execution_count": null,
      "outputs": [
        {
          "output_type": "execute_result",
          "data": {
            "text/plain": [
              "0"
            ]
          },
          "metadata": {},
          "execution_count": 24
        }
      ]
    },
    {
      "cell_type": "code",
      "source": [
        "anime_ovrl"
      ],
      "metadata": {
        "colab": {
          "base_uri": "https://localhost:8080/",
          "height": 423
        },
        "id": "OUYgfS1SO6WZ",
        "outputId": "0920219d-989f-4ed9-b635-429e5894bed9"
      },
      "execution_count": null,
      "outputs": [
        {
          "output_type": "execute_result",
          "data": {
            "text/plain": [
              "       anime_id                                               name  \\\n",
              "0         32281                                     Kimi no Na wa.   \n",
              "1          5114                   Fullmetal Alchemist: Brotherhood   \n",
              "2         28977                                           Gintama°   \n",
              "3          9253                                        Steins;Gate   \n",
              "4          9969                                      Gintama&#039;   \n",
              "...         ...                                                ...   \n",
              "12289      9316       Toushindai My Lover: Minami tai Mecha-Minami   \n",
              "12290      5543                                        Under World   \n",
              "12291      5621                     Violence Gekiga David no Hoshi   \n",
              "12292      6133  Violence Gekiga Shin David no Hoshi: Inma Dens...   \n",
              "12293     26081                   Yasuji no Pornorama: Yacchimae!!   \n",
              "\n",
              "                                                   genre   type episodes  \\\n",
              "0                   Drama, Romance, School, Supernatural  Movie        1   \n",
              "1      Action, Adventure, Drama, Fantasy, Magic, Mili...     TV       64   \n",
              "2      Action, Comedy, Historical, Parody, Samurai, S...     TV       51   \n",
              "3                                       Sci-Fi, Thriller     TV       24   \n",
              "4      Action, Comedy, Historical, Parody, Samurai, S...     TV       51   \n",
              "...                                                  ...    ...      ...   \n",
              "12289                                             Hentai    OVA        1   \n",
              "12290                                             Hentai    OVA        1   \n",
              "12291                                             Hentai    OVA        4   \n",
              "12292                                             Hentai    OVA        1   \n",
              "12293                                             Hentai  Movie        1   \n",
              "\n",
              "       rating  members  \n",
              "0        9.37   200630  \n",
              "1        9.26   793665  \n",
              "2        9.25   114262  \n",
              "3        9.17   673572  \n",
              "4        9.16   151266  \n",
              "...       ...      ...  \n",
              "12289    4.15      211  \n",
              "12290    4.28      183  \n",
              "12291    4.88      219  \n",
              "12292    4.98      175  \n",
              "12293    5.46      142  \n",
              "\n",
              "[12017 rows x 7 columns]"
            ],
            "text/html": [
              "\n",
              "  <div id=\"df-0750d33e-22f0-4dec-a6bc-f5b727db8982\">\n",
              "    <div class=\"colab-df-container\">\n",
              "      <div>\n",
              "<style scoped>\n",
              "    .dataframe tbody tr th:only-of-type {\n",
              "        vertical-align: middle;\n",
              "    }\n",
              "\n",
              "    .dataframe tbody tr th {\n",
              "        vertical-align: top;\n",
              "    }\n",
              "\n",
              "    .dataframe thead th {\n",
              "        text-align: right;\n",
              "    }\n",
              "</style>\n",
              "<table border=\"1\" class=\"dataframe\">\n",
              "  <thead>\n",
              "    <tr style=\"text-align: right;\">\n",
              "      <th></th>\n",
              "      <th>anime_id</th>\n",
              "      <th>name</th>\n",
              "      <th>genre</th>\n",
              "      <th>type</th>\n",
              "      <th>episodes</th>\n",
              "      <th>rating</th>\n",
              "      <th>members</th>\n",
              "    </tr>\n",
              "  </thead>\n",
              "  <tbody>\n",
              "    <tr>\n",
              "      <th>0</th>\n",
              "      <td>32281</td>\n",
              "      <td>Kimi no Na wa.</td>\n",
              "      <td>Drama, Romance, School, Supernatural</td>\n",
              "      <td>Movie</td>\n",
              "      <td>1</td>\n",
              "      <td>9.37</td>\n",
              "      <td>200630</td>\n",
              "    </tr>\n",
              "    <tr>\n",
              "      <th>1</th>\n",
              "      <td>5114</td>\n",
              "      <td>Fullmetal Alchemist: Brotherhood</td>\n",
              "      <td>Action, Adventure, Drama, Fantasy, Magic, Mili...</td>\n",
              "      <td>TV</td>\n",
              "      <td>64</td>\n",
              "      <td>9.26</td>\n",
              "      <td>793665</td>\n",
              "    </tr>\n",
              "    <tr>\n",
              "      <th>2</th>\n",
              "      <td>28977</td>\n",
              "      <td>Gintama°</td>\n",
              "      <td>Action, Comedy, Historical, Parody, Samurai, S...</td>\n",
              "      <td>TV</td>\n",
              "      <td>51</td>\n",
              "      <td>9.25</td>\n",
              "      <td>114262</td>\n",
              "    </tr>\n",
              "    <tr>\n",
              "      <th>3</th>\n",
              "      <td>9253</td>\n",
              "      <td>Steins;Gate</td>\n",
              "      <td>Sci-Fi, Thriller</td>\n",
              "      <td>TV</td>\n",
              "      <td>24</td>\n",
              "      <td>9.17</td>\n",
              "      <td>673572</td>\n",
              "    </tr>\n",
              "    <tr>\n",
              "      <th>4</th>\n",
              "      <td>9969</td>\n",
              "      <td>Gintama&amp;#039;</td>\n",
              "      <td>Action, Comedy, Historical, Parody, Samurai, S...</td>\n",
              "      <td>TV</td>\n",
              "      <td>51</td>\n",
              "      <td>9.16</td>\n",
              "      <td>151266</td>\n",
              "    </tr>\n",
              "    <tr>\n",
              "      <th>...</th>\n",
              "      <td>...</td>\n",
              "      <td>...</td>\n",
              "      <td>...</td>\n",
              "      <td>...</td>\n",
              "      <td>...</td>\n",
              "      <td>...</td>\n",
              "      <td>...</td>\n",
              "    </tr>\n",
              "    <tr>\n",
              "      <th>12289</th>\n",
              "      <td>9316</td>\n",
              "      <td>Toushindai My Lover: Minami tai Mecha-Minami</td>\n",
              "      <td>Hentai</td>\n",
              "      <td>OVA</td>\n",
              "      <td>1</td>\n",
              "      <td>4.15</td>\n",
              "      <td>211</td>\n",
              "    </tr>\n",
              "    <tr>\n",
              "      <th>12290</th>\n",
              "      <td>5543</td>\n",
              "      <td>Under World</td>\n",
              "      <td>Hentai</td>\n",
              "      <td>OVA</td>\n",
              "      <td>1</td>\n",
              "      <td>4.28</td>\n",
              "      <td>183</td>\n",
              "    </tr>\n",
              "    <tr>\n",
              "      <th>12291</th>\n",
              "      <td>5621</td>\n",
              "      <td>Violence Gekiga David no Hoshi</td>\n",
              "      <td>Hentai</td>\n",
              "      <td>OVA</td>\n",
              "      <td>4</td>\n",
              "      <td>4.88</td>\n",
              "      <td>219</td>\n",
              "    </tr>\n",
              "    <tr>\n",
              "      <th>12292</th>\n",
              "      <td>6133</td>\n",
              "      <td>Violence Gekiga Shin David no Hoshi: Inma Dens...</td>\n",
              "      <td>Hentai</td>\n",
              "      <td>OVA</td>\n",
              "      <td>1</td>\n",
              "      <td>4.98</td>\n",
              "      <td>175</td>\n",
              "    </tr>\n",
              "    <tr>\n",
              "      <th>12293</th>\n",
              "      <td>26081</td>\n",
              "      <td>Yasuji no Pornorama: Yacchimae!!</td>\n",
              "      <td>Hentai</td>\n",
              "      <td>Movie</td>\n",
              "      <td>1</td>\n",
              "      <td>5.46</td>\n",
              "      <td>142</td>\n",
              "    </tr>\n",
              "  </tbody>\n",
              "</table>\n",
              "<p>12017 rows × 7 columns</p>\n",
              "</div>\n",
              "      <button class=\"colab-df-convert\" onclick=\"convertToInteractive('df-0750d33e-22f0-4dec-a6bc-f5b727db8982')\"\n",
              "              title=\"Convert this dataframe to an interactive table.\"\n",
              "              style=\"display:none;\">\n",
              "        \n",
              "  <svg xmlns=\"http://www.w3.org/2000/svg\" height=\"24px\"viewBox=\"0 0 24 24\"\n",
              "       width=\"24px\">\n",
              "    <path d=\"M0 0h24v24H0V0z\" fill=\"none\"/>\n",
              "    <path d=\"M18.56 5.44l.94 2.06.94-2.06 2.06-.94-2.06-.94-.94-2.06-.94 2.06-2.06.94zm-11 1L8.5 8.5l.94-2.06 2.06-.94-2.06-.94L8.5 2.5l-.94 2.06-2.06.94zm10 10l.94 2.06.94-2.06 2.06-.94-2.06-.94-.94-2.06-.94 2.06-2.06.94z\"/><path d=\"M17.41 7.96l-1.37-1.37c-.4-.4-.92-.59-1.43-.59-.52 0-1.04.2-1.43.59L10.3 9.45l-7.72 7.72c-.78.78-.78 2.05 0 2.83L4 21.41c.39.39.9.59 1.41.59.51 0 1.02-.2 1.41-.59l7.78-7.78 2.81-2.81c.8-.78.8-2.07 0-2.86zM5.41 20L4 18.59l7.72-7.72 1.47 1.35L5.41 20z\"/>\n",
              "  </svg>\n",
              "      </button>\n",
              "      \n",
              "  <style>\n",
              "    .colab-df-container {\n",
              "      display:flex;\n",
              "      flex-wrap:wrap;\n",
              "      gap: 12px;\n",
              "    }\n",
              "\n",
              "    .colab-df-convert {\n",
              "      background-color: #E8F0FE;\n",
              "      border: none;\n",
              "      border-radius: 50%;\n",
              "      cursor: pointer;\n",
              "      display: none;\n",
              "      fill: #1967D2;\n",
              "      height: 32px;\n",
              "      padding: 0 0 0 0;\n",
              "      width: 32px;\n",
              "    }\n",
              "\n",
              "    .colab-df-convert:hover {\n",
              "      background-color: #E2EBFA;\n",
              "      box-shadow: 0px 1px 2px rgba(60, 64, 67, 0.3), 0px 1px 3px 1px rgba(60, 64, 67, 0.15);\n",
              "      fill: #174EA6;\n",
              "    }\n",
              "\n",
              "    [theme=dark] .colab-df-convert {\n",
              "      background-color: #3B4455;\n",
              "      fill: #D2E3FC;\n",
              "    }\n",
              "\n",
              "    [theme=dark] .colab-df-convert:hover {\n",
              "      background-color: #434B5C;\n",
              "      box-shadow: 0px 1px 3px 1px rgba(0, 0, 0, 0.15);\n",
              "      filter: drop-shadow(0px 1px 2px rgba(0, 0, 0, 0.3));\n",
              "      fill: #FFFFFF;\n",
              "    }\n",
              "  </style>\n",
              "\n",
              "      <script>\n",
              "        const buttonEl =\n",
              "          document.querySelector('#df-0750d33e-22f0-4dec-a6bc-f5b727db8982 button.colab-df-convert');\n",
              "        buttonEl.style.display =\n",
              "          google.colab.kernel.accessAllowed ? 'block' : 'none';\n",
              "\n",
              "        async function convertToInteractive(key) {\n",
              "          const element = document.querySelector('#df-0750d33e-22f0-4dec-a6bc-f5b727db8982');\n",
              "          const dataTable =\n",
              "            await google.colab.kernel.invokeFunction('convertToInteractive',\n",
              "                                                     [key], {});\n",
              "          if (!dataTable) return;\n",
              "\n",
              "          const docLinkHtml = 'Like what you see? Visit the ' +\n",
              "            '<a target=\"_blank\" href=https://colab.research.google.com/notebooks/data_table.ipynb>data table notebook</a>'\n",
              "            + ' to learn more about interactive tables.';\n",
              "          element.innerHTML = '';\n",
              "          dataTable['output_type'] = 'display_data';\n",
              "          await google.colab.output.renderOutput(dataTable, element);\n",
              "          const docLink = document.createElement('div');\n",
              "          docLink.innerHTML = docLinkHtml;\n",
              "          element.appendChild(docLink);\n",
              "        }\n",
              "      </script>\n",
              "    </div>\n",
              "  </div>\n",
              "  "
            ]
          },
          "metadata": {},
          "execution_count": 25
        }
      ]
    },
    {
      "cell_type": "code",
      "source": [
        "columns = ['anime_id', 'rating', 'members']\n",
        "for column in columns:\n",
        "    sns.boxplot(x=anime_ovrl[col])"
      ],
      "metadata": {
        "colab": {
          "base_uri": "https://localhost:8080/",
          "height": 449
        },
        "id": "N6Ax1VOLH5FV",
        "outputId": "41b6a704-052b-4908-b596-9a5ab38e1540"
      },
      "execution_count": null,
      "outputs": [
        {
          "output_type": "display_data",
          "data": {
            "text/plain": [
              "<Figure size 640x480 with 1 Axes>"
            ],
            "image/png": "[encoded data removed]"
          },
          "metadata": {}
        }
      ]
    },
    {
      "cell_type": "code",
      "source": [
        "sns.boxplot(x=anime_ovrl['anime_id'])"
      ],
      "metadata": {
        "colab": {
          "base_uri": "https://localhost:8080/",
          "height": 467
        },
        "id": "s2k4aINlNwM6",
        "outputId": "7ab94247-6c13-4544-b5ff-e94b8f2644cc"
      },
      "execution_count": null,
      "outputs": [
        {
          "output_type": "execute_result",
          "data": {
            "text/plain": [
              "<Axes: xlabel='anime_id'>"
            ]
          },
          "metadata": {},
          "execution_count": 27
        },
        {
          "output_type": "display_data",
          "data": {
            "text/plain": [
              "<Figure size 640x480 with 1 Axes>"
            ],
            "image/png": "[encoded data removed]"
          },
          "metadata": {}
        }
      ]
    },
    {
      "cell_type": "code",
      "source": [
        "sns.boxplot(x=anime_ovrl['members'])"
      ],
      "metadata": {
        "colab": {
          "base_uri": "https://localhost:8080/",
          "height": 466
        },
        "id": "Horkp8RBN0eB",
        "outputId": "dabc8317-d9e2-4a1d-9688-735dcc70c0d4"
      },
      "execution_count": null,
      "outputs": [
        {
          "output_type": "execute_result",
          "data": {
            "text/plain": [
              "<Axes: xlabel='members'>"
            ]
          },
          "metadata": {},
          "execution_count": 28
        },
        {
          "output_type": "display_data",
          "data": {
            "text/plain": [
              "<Figure size 640x480 with 1 Axes>"
            ],
            "image/png": "[encoded data removed]"
          },
          "metadata": {}
        }
      ]
    },
    {
      "cell_type": "code",
      "source": [
        "anime_ovrl.shape"
      ],
      "metadata": {
        "colab": {
          "base_uri": "https://localhost:8080/"
        },
        "id": "TfE9l88mUK8G",
        "outputId": "79a69d4b-c8b2-4ae7-fb11-7d97b064b882"
      },
      "execution_count": null,
      "outputs": [
        {
          "output_type": "execute_result",
          "data": {
            "text/plain": [
              "(12017, 7)"
            ]
          },
          "metadata": {},
          "execution_count": 29
        }
      ]
    },
    {
      "cell_type": "code",
      "source": [
        "Q1 = anime_ovrl.quantile(0.25)\n",
        "Q3 = anime_ovrl.quantile(0.75)\n",
        "IQR=Q3-Q1\n",
        "anime_ovrl=anime_ovrl[~((anime_ovrl<(Q1-1.5*IQR))|(anime_ovrl>(Q3+1.5*IQR))).any(axis=1)]\n",
        " \n",
        "# Cek ukuran dataset setelah kita drop outliers\n",
        "anime_ovrl.shape"
      ],
      "metadata": {
        "colab": {
          "base_uri": "https://localhost:8080/"
        },
        "id": "Jfx06lWCUItD",
        "outputId": "69ed5f57-30f5-42ef-e669-161950f41a8d"
      },
      "execution_count": null,
      "outputs": [
        {
          "output_type": "stream",
          "name": "stderr",
          "text": [
            "<ipython-input-30-4529c6651e83>:1: FutureWarning: The default value of numeric_only in DataFrame.quantile is deprecated. In a future version, it will default to False. Select only valid columns or specify the value of numeric_only to silence this warning.\n",
            "  Q1 = anime_ovrl.quantile(0.25)\n",
            "<ipython-input-30-4529c6651e83>:2: FutureWarning: The default value of numeric_only in DataFrame.quantile is deprecated. In a future version, it will default to False. Select only valid columns or specify the value of numeric_only to silence this warning.\n",
            "  Q3 = anime_ovrl.quantile(0.75)\n",
            "<ipython-input-30-4529c6651e83>:4: FutureWarning: Automatic reindexing on DataFrame vs Series comparisons is deprecated and will raise ValueError in a future version. Do `left, right = left.align(right, axis=1, copy=False)` before e.g. `left == right`\n",
            "  anime_ovrl=anime_ovrl[~((anime_ovrl<(Q1-1.5*IQR))|(anime_ovrl>(Q3+1.5*IQR))).any(axis=1)]\n"
          ]
        },
        {
          "output_type": "execute_result",
          "data": {
            "text/plain": [
              "(9922, 7)"
            ]
          },
          "metadata": {},
          "execution_count": 30
        }
      ]
    },
    {
      "cell_type": "code",
      "source": [
        "rtg_anime.info()"
      ],
      "metadata": {
        "colab": {
          "base_uri": "https://localhost:8080/"
        },
        "id": "yaoAqLg1UXk9",
        "outputId": "c0363570-e51d-4485-fa6d-917b01f6a278"
      },
      "execution_count": null,
      "outputs": [
        {
          "output_type": "stream",
          "name": "stdout",
          "text": [
            "<class 'pandas.core.frame.DataFrame'>\n",
            "Int64Index: 7813736 entries, 0 to 7813736\n",
            "Data columns (total 3 columns):\n",
            " #   Column    Dtype\n",
            "---  ------    -----\n",
            " 0   user_id   int64\n",
            " 1   anime_id  int64\n",
            " 2   rating    int64\n",
            "dtypes: int64(3)\n",
            "memory usage: 238.5 MB\n"
          ]
        }
      ]
    },
    {
      "cell_type": "code",
      "source": [
        "sns.boxplot(x=rtg_anime['user_id'])"
      ],
      "metadata": {
        "colab": {
          "base_uri": "https://localhost:8080/",
          "height": 467
        },
        "id": "Jp-H2ji4Uc-c",
        "outputId": "b680e3c7-29c7-4dc4-c76f-439f9d13f9e1"
      },
      "execution_count": null,
      "outputs": [
        {
          "output_type": "execute_result",
          "data": {
            "text/plain": [
              "<Axes: xlabel='user_id'>"
            ]
          },
          "metadata": {},
          "execution_count": 32
        },
        {
          "output_type": "display_data",
          "data": {
            "text/plain": [
              "<Figure size 640x480 with 1 Axes>"
            ],
            "image/png": "[encoded data removed]"
          },
          "metadata": {}
        }
      ]
    },
    {
      "cell_type": "code",
      "source": [
        "sns.boxplot(x=rtg_anime['anime_id'])"
      ],
      "metadata": {
        "colab": {
          "base_uri": "https://localhost:8080/",
          "height": 467
        },
        "id": "gjrP26GIUhH3",
        "outputId": "82da5015-8ed9-45a5-8877-684d8b0c3fef"
      },
      "execution_count": null,
      "outputs": [
        {
          "output_type": "execute_result",
          "data": {
            "text/plain": [
              "<Axes: xlabel='anime_id'>"
            ]
          },
          "metadata": {},
          "execution_count": 33
        },
        {
          "output_type": "display_data",
          "data": {
            "text/plain": [
              "<Figure size 640x480 with 1 Axes>"
            ],
            "image/png": "[encoded data removed]"
          },
          "metadata": {}
        }
      ]
    },
    {
      "cell_type": "code",
      "source": [
        "sns.boxplot(x=rtg_anime['rating'])"
      ],
      "metadata": {
        "colab": {
          "base_uri": "https://localhost:8080/",
          "height": 466
        },
        "id": "E4srnGLdUjLK",
        "outputId": "f0c0b5be-87d5-4924-82b8-93dfc4b0cfc7"
      },
      "execution_count": null,
      "outputs": [
        {
          "output_type": "execute_result",
          "data": {
            "text/plain": [
              "<Axes: xlabel='rating'>"
            ]
          },
          "metadata": {},
          "execution_count": 34
        },
        {
          "output_type": "display_data",
          "data": {
            "text/plain": [
              "<Figure size 640x480 with 1 Axes>"
            ],
            "image/png": "[encoded data removed]"
          },
          "metadata": {}
        }
      ]
    },
    {
      "cell_type": "code",
      "source": [
        "rtg_anime.shape"
      ],
      "metadata": {
        "colab": {
          "base_uri": "https://localhost:8080/"
        },
        "id": "viCz0ttSVC6E",
        "outputId": "7179c425-e731-4e45-8581-14ac2ecfdafc"
      },
      "execution_count": null,
      "outputs": [
        {
          "output_type": "execute_result",
          "data": {
            "text/plain": [
              "(7813736, 3)"
            ]
          },
          "metadata": {},
          "execution_count": 35
        }
      ]
    },
    {
      "cell_type": "code",
      "source": [
        "Q1 = rtg_anime.quantile(0.25)\n",
        "Q3 = rtg_anime.quantile(0.75)\n",
        "IQR=Q3-Q1\n",
        "rtg_anime=rtg_anime[~((rtg_anime<(Q1-1.5*IQR))|(rtg_anime>(Q3+1.5*IQR))).any(axis=1)]\n",
        " \n",
        "# Cek ukuran dataset setelah kita drop outliers\n",
        "rtg_anime.shape"
      ],
      "metadata": {
        "colab": {
          "base_uri": "https://localhost:8080/"
        },
        "id": "FaqAP3TqVUpx",
        "outputId": "6bd82088-70e0-4bbf-ddcb-840c9d68fc6f"
      },
      "execution_count": null,
      "outputs": [
        {
          "output_type": "execute_result",
          "data": {
            "text/plain": [
              "(6316305, 3)"
            ]
          },
          "metadata": {},
          "execution_count": 36
        }
      ]
    },
    {
      "cell_type": "code",
      "source": [
        "import re\n",
        "def text_clean(text):\n",
        "    text = re.sub(r'\"', '', text)\n",
        "    text = re.sub(r'\\.hack//', '', text)\n",
        "    text = re.sub(r\"'\", '', text)\n",
        "    text = re.sub(r\"A's\", '', text)\n",
        "    text = re.sub(r\"I'\", \"I'\", text)\n",
        "    text = re.sub(r'&', 'and', text)\n",
        "    \n",
        "    return text\n",
        "\n",
        "anime_ovrl['name'] = anime_ovrl['name'].apply(text_clean)"
      ],
      "metadata": {
        "colab": {
          "base_uri": "https://localhost:8080/"
        },
        "id": "MYApzCPwV7-L",
        "outputId": "65aa405e-4c5d-43cd-883e-718370bff983"
      },
      "execution_count": null,
      "outputs": [
        {
          "output_type": "stream",
          "name": "stderr",
          "text": [
            "<ipython-input-37-5d2503916c2c>:12: SettingWithCopyWarning: \n",
            "A value is trying to be set on a copy of a slice from a DataFrame.\n",
            "Try using .loc[row_indexer,col_indexer] = value instead\n",
            "\n",
            "See the caveats in the documentation: https://pandas.pydata.org/pandas-docs/stable/user_guide/indexing.html#returning-a-view-versus-a-copy\n",
            "  anime_ovrl['name'] = anime_ovrl['name'].apply(text_clean)\n"
          ]
        }
      ]
    },
    {
      "cell_type": "code",
      "source": [
        "anime_ovrl"
      ],
      "metadata": {
        "colab": {
          "base_uri": "https://localhost:8080/",
          "height": 423
        },
        "id": "SyyL_uW8W-JC",
        "outputId": "db0d9ab2-2696-4c0b-85d8-d6c6869f7080"
      },
      "execution_count": null,
      "outputs": [
        {
          "output_type": "execute_result",
          "data": {
            "text/plain": [
              "       anime_id                                               name  \\\n",
              "41        32366                         Gintama°: Aizome Kaori-hen   \n",
              "63        21899        Gintama: Yorinuki Gintama-san on Theater 2D   \n",
              "103       11917                                Major: World Series   \n",
              "111        2921                                    Ashita no Joe 2   \n",
              "119        2559                                  Romeo no Aoi Sora   \n",
              "...         ...                                                ...   \n",
              "12289      9316       Toushindai My Lover: Minami tai Mecha-Minami   \n",
              "12290      5543                                        Under World   \n",
              "12291      5621                     Violence Gekiga David no Hoshi   \n",
              "12292      6133  Violence Gekiga Shin David no Hoshi: Inma Dens...   \n",
              "12293     26081                   Yasuji no Pornorama: Yacchimae!!   \n",
              "\n",
              "                                                   genre   type episodes  \\\n",
              "41                                        Comedy, Parody    OVA        2   \n",
              "63     Action, Comedy, Historical, Parody, Samurai, S...  Movie        2   \n",
              "103                                Comedy, Drama, Sports    OVA        2   \n",
              "111                                        Drama, Sports     TV       47   \n",
              "119          Adventure, Drama, Historical, Slice of Life     TV       33   \n",
              "...                                                  ...    ...      ...   \n",
              "12289                                             Hentai    OVA        1   \n",
              "12290                                             Hentai    OVA        1   \n",
              "12291                                             Hentai    OVA        4   \n",
              "12292                                             Hentai    OVA        1   \n",
              "12293                                             Hentai  Movie        1   \n",
              "\n",
              "       rating  members  \n",
              "41       8.69    16947  \n",
              "63       8.60    11104  \n",
              "103      8.50    13405  \n",
              "111      8.48     6259  \n",
              "119      8.47    15074  \n",
              "...       ...      ...  \n",
              "12289    4.15      211  \n",
              "12290    4.28      183  \n",
              "12291    4.88      219  \n",
              "12292    4.98      175  \n",
              "12293    5.46      142  \n",
              "\n",
              "[9922 rows x 7 columns]"
            ],
            "text/html": [
              "\n",
              "  <div id=\"df-a6dc47dd-4277-49c2-949d-e350d08c49f8\">\n",
              "    <div class=\"colab-df-container\">\n",
              "      <div>\n",
              "<style scoped>\n",
              "    .dataframe tbody tr th:only-of-type {\n",
              "        vertical-align: middle;\n",
              "    }\n",
              "\n",
              "    .dataframe tbody tr th {\n",
              "        vertical-align: top;\n",
              "    }\n",
              "\n",
              "    .dataframe thead th {\n",
              "        text-align: right;\n",
              "    }\n",
              "</style>\n",
              "<table border=\"1\" class=\"dataframe\">\n",
              "  <thead>\n",
              "    <tr style=\"text-align: right;\">\n",
              "      <th></th>\n",
              "      <th>anime_id</th>\n",
              "      <th>name</th>\n",
              "      <th>genre</th>\n",
              "      <th>type</th>\n",
              "      <th>episodes</th>\n",
              "      <th>rating</th>\n",
              "      <th>members</th>\n",
              "    </tr>\n",
              "  </thead>\n",
              "  <tbody>\n",
              "    <tr>\n",
              "      <th>41</th>\n",
              "      <td>32366</td>\n",
              "      <td>Gintama°: Aizome Kaori-hen</td>\n",
              "      <td>Comedy, Parody</td>\n",
              "      <td>OVA</td>\n",
              "      <td>2</td>\n",
              "      <td>8.69</td>\n",
              "      <td>16947</td>\n",
              "    </tr>\n",
              "    <tr>\n",
              "      <th>63</th>\n",
              "      <td>21899</td>\n",
              "      <td>Gintama: Yorinuki Gintama-san on Theater 2D</td>\n",
              "      <td>Action, Comedy, Historical, Parody, Samurai, S...</td>\n",
              "      <td>Movie</td>\n",
              "      <td>2</td>\n",
              "      <td>8.60</td>\n",
              "      <td>11104</td>\n",
              "    </tr>\n",
              "    <tr>\n",
              "      <th>103</th>\n",
              "      <td>11917</td>\n",
              "      <td>Major: World Series</td>\n",
              "      <td>Comedy, Drama, Sports</td>\n",
              "      <td>OVA</td>\n",
              "      <td>2</td>\n",
              "      <td>8.50</td>\n",
              "      <td>13405</td>\n",
              "    </tr>\n",
              "    <tr>\n",
              "      <th>111</th>\n",
              "      <td>2921</td>\n",
              "      <td>Ashita no Joe 2</td>\n",
              "      <td>Drama, Sports</td>\n",
              "      <td>TV</td>\n",
              "      <td>47</td>\n",
              "      <td>8.48</td>\n",
              "      <td>6259</td>\n",
              "    </tr>\n",
              "    <tr>\n",
              "      <th>119</th>\n",
              "      <td>2559</td>\n",
              "      <td>Romeo no Aoi Sora</td>\n",
              "      <td>Adventure, Drama, Historical, Slice of Life</td>\n",
              "      <td>TV</td>\n",
              "      <td>33</td>\n",
              "      <td>8.47</td>\n",
              "      <td>15074</td>\n",
              "    </tr>\n",
              "    <tr>\n",
              "      <th>...</th>\n",
              "      <td>...</td>\n",
              "      <td>...</td>\n",
              "      <td>...</td>\n",
              "      <td>...</td>\n",
              "      <td>...</td>\n",
              "      <td>...</td>\n",
              "      <td>...</td>\n",
              "    </tr>\n",
              "    <tr>\n",
              "      <th>12289</th>\n",
              "      <td>9316</td>\n",
              "      <td>Toushindai My Lover: Minami tai Mecha-Minami</td>\n",
              "      <td>Hentai</td>\n",
              "      <td>OVA</td>\n",
              "      <td>1</td>\n",
              "      <td>4.15</td>\n",
              "      <td>211</td>\n",
              "    </tr>\n",
              "    <tr>\n",
              "      <th>12290</th>\n",
              "      <td>5543</td>\n",
              "      <td>Under World</td>\n",
              "      <td>Hentai</td>\n",
              "      <td>OVA</td>\n",
              "      <td>1</td>\n",
              "      <td>4.28</td>\n",
              "      <td>183</td>\n",
              "    </tr>\n",
              "    <tr>\n",
              "      <th>12291</th>\n",
              "      <td>5621</td>\n",
              "      <td>Violence Gekiga David no Hoshi</td>\n",
              "      <td>Hentai</td>\n",
              "      <td>OVA</td>\n",
              "      <td>4</td>\n",
              "      <td>4.88</td>\n",
              "      <td>219</td>\n",
              "    </tr>\n",
              "    <tr>\n",
              "      <th>12292</th>\n",
              "      <td>6133</td>\n",
              "      <td>Violence Gekiga Shin David no Hoshi: Inma Dens...</td>\n",
              "      <td>Hentai</td>\n",
              "      <td>OVA</td>\n",
              "      <td>1</td>\n",
              "      <td>4.98</td>\n",
              "      <td>175</td>\n",
              "    </tr>\n",
              "    <tr>\n",
              "      <th>12293</th>\n",
              "      <td>26081</td>\n",
              "      <td>Yasuji no Pornorama: Yacchimae!!</td>\n",
              "      <td>Hentai</td>\n",
              "      <td>Movie</td>\n",
              "      <td>1</td>\n",
              "      <td>5.46</td>\n",
              "      <td>142</td>\n",
              "    </tr>\n",
              "  </tbody>\n",
              "</table>\n",
              "<p>9922 rows × 7 columns</p>\n",
              "</div>\n",
              "      <button class=\"colab-df-convert\" onclick=\"convertToInteractive('df-a6dc47dd-4277-49c2-949d-e350d08c49f8')\"\n",
              "              title=\"Convert this dataframe to an interactive table.\"\n",
              "              style=\"display:none;\">\n",
              "        \n",
              "  <svg xmlns=\"http://www.w3.org/2000/svg\" height=\"24px\"viewBox=\"0 0 24 24\"\n",
              "       width=\"24px\">\n",
              "    <path d=\"M0 0h24v24H0V0z\" fill=\"none\"/>\n",
              "    <path d=\"M18.56 5.44l.94 2.06.94-2.06 2.06-.94-2.06-.94-.94-2.06-.94 2.06-2.06.94zm-11 1L8.5 8.5l.94-2.06 2.06-.94-2.06-.94L8.5 2.5l-.94 2.06-2.06.94zm10 10l.94 2.06.94-2.06 2.06-.94-2.06-.94-.94-2.06-.94 2.06-2.06.94z\"/><path d=\"M17.41 7.96l-1.37-1.37c-.4-.4-.92-.59-1.43-.59-.52 0-1.04.2-1.43.59L10.3 9.45l-7.72 7.72c-.78.78-.78 2.05 0 2.83L4 21.41c.39.39.9.59 1.41.59.51 0 1.02-.2 1.41-.59l7.78-7.78 2.81-2.81c.8-.78.8-2.07 0-2.86zM5.41 20L4 18.59l7.72-7.72 1.47 1.35L5.41 20z\"/>\n",
              "  </svg>\n",
              "      </button>\n",
              "      \n",
              "  <style>\n",
              "    .colab-df-container {\n",
              "      display:flex;\n",
              "      flex-wrap:wrap;\n",
              "      gap: 12px;\n",
              "    }\n",
              "\n",
              "    .colab-df-convert {\n",
              "      background-color: #E8F0FE;\n",
              "      border: none;\n",
              "      border-radius: 50%;\n",
              "      cursor: pointer;\n",
              "      display: none;\n",
              "      fill: #1967D2;\n",
              "      height: 32px;\n",
              "      padding: 0 0 0 0;\n",
              "      width: 32px;\n",
              "    }\n",
              "\n",
              "    .colab-df-convert:hover {\n",
              "      background-color: #E2EBFA;\n",
              "      box-shadow: 0px 1px 2px rgba(60, 64, 67, 0.3), 0px 1px 3px 1px rgba(60, 64, 67, 0.15);\n",
              "      fill: #174EA6;\n",
              "    }\n",
              "\n",
              "    [theme=dark] .colab-df-convert {\n",
              "      background-color: #3B4455;\n",
              "      fill: #D2E3FC;\n",
              "    }\n",
              "\n",
              "    [theme=dark] .colab-df-convert:hover {\n",
              "      background-color: #434B5C;\n",
              "      box-shadow: 0px 1px 3px 1px rgba(0, 0, 0, 0.15);\n",
              "      filter: drop-shadow(0px 1px 2px rgba(0, 0, 0, 0.3));\n",
              "      fill: #FFFFFF;\n",
              "    }\n",
              "  </style>\n",
              "\n",
              "      <script>\n",
              "        const buttonEl =\n",
              "          document.querySelector('#df-a6dc47dd-4277-49c2-949d-e350d08c49f8 button.colab-df-convert');\n",
              "        buttonEl.style.display =\n",
              "          google.colab.kernel.accessAllowed ? 'block' : 'none';\n",
              "\n",
              "        async function convertToInteractive(key) {\n",
              "          const element = document.querySelector('#df-a6dc47dd-4277-49c2-949d-e350d08c49f8');\n",
              "          const dataTable =\n",
              "            await google.colab.kernel.invokeFunction('convertToInteractive',\n",
              "                                                     [key], {});\n",
              "          if (!dataTable) return;\n",
              "\n",
              "          const docLinkHtml = 'Like what you see? Visit the ' +\n",
              "            '<a target=\"_blank\" href=https://colab.research.google.com/notebooks/data_table.ipynb>data table notebook</a>'\n",
              "            + ' to learn more about interactive tables.';\n",
              "          element.innerHTML = '';\n",
              "          dataTable['output_type'] = 'display_data';\n",
              "          await google.colab.output.renderOutput(dataTable, element);\n",
              "          const docLink = document.createElement('div');\n",
              "          docLink.innerHTML = docLinkHtml;\n",
              "          element.appendChild(docLink);\n",
              "        }\n",
              "      </script>\n",
              "    </div>\n",
              "  </div>\n",
              "  "
            ]
          },
          "metadata": {},
          "execution_count": 38
        }
      ]
    },
    {
      "cell_type": "markdown",
      "source": [
        "# **Univariate Analysis**\n",
        "\n",
        "Univariate Analysis adalah metode statistik yang digunakan untuk menganalisis satu variabel tunggal dalam suatu dataset. Tujuan dari analisis univariat adalah untuk memahami distribusi, pola, dan karakteristik dari variabel tersebut secara terpisah.\n",
        "\n",
        "![distribusi anime](https://i.ibb.co/HCpSxvb/distribusi.png)\n",
        "Gambar 1. Distribusi Anime\n",
        "Pada Gambar 1 dapat dilihat bahwa data anime memiliki rating anime terendah 1,67 dan rating tertinggi 10 dengan rata-rata 6,48. Dataset ini juga memiliki jumlah anggota komunitas anime terendah yaitu 12 dan tertinggi 1013917 dengan rata-rata 18348. Perbedaan jumlah minimum dan maksimum anggota komunitas anime cukup besar dan itu bisa dimaklumi karena beberapa anime sangat populer dan beberapa tidak.\n",
        "\n",
        "![distribusi rating](https://i.ibb.co/XzJZfGH/distribusi-rating.png)\n",
        "Gambar 2. Distribusi Rating\n",
        "\n",
        "Pada Gambar 2. menjelaskan bahwa Dalam catatan peringkat anime, peringkat terendah yang diberikan pengguna pada anime adalah -1 dan peringkat tertinggi adalah 10. Peringkat -1 berarti pengguna menonton anime tetapi tidak memberi peringkat. Pengguna sampel yang tidak memberikan peringkat tidak akan digunakan dan karenanya akan dihapus.\n",
        "\n",
        "![Genre Terbanyak](https://i.ibb.co/m9dVbKM/genre.png)\n",
        "Gambar 3. Visualisasi Genre Terbanyak\n",
        "\n",
        "Pada Gambar 3 dapat dilihat kalau genre terbanyak ada di kategori hentai, kategori banyak kedua ada di genre komedi dan kategori terbanyak kedua ada di genre musik."
      ],
      "metadata": {
        "id": "QhNMnvMLX4uz"
      }
    },
    {
      "cell_type": "code",
      "source": [
        "anime_ovrl.describe().apply(lambda s: s.apply('{0:.2f}'.format))"
      ],
      "metadata": {
        "colab": {
          "base_uri": "https://localhost:8080/",
          "height": 300
        },
        "id": "UHA51B2qZk3M",
        "outputId": "c2e77f30-c66e-43fb-885a-b48c7e3f6034"
      },
      "execution_count": null,
      "outputs": [
        {
          "output_type": "execute_result",
          "data": {
            "text/plain": [
              "       anime_id   rating   members\n",
              "count   9922.00  9922.00   9922.00\n",
              "mean   13752.42     6.34   3259.68\n",
              "std    11213.94     0.87   5053.61\n",
              "min        8.00     3.96     17.00\n",
              "25%     3517.25     5.79    178.00\n",
              "50%     9884.50     6.42    959.50\n",
              "75%    23907.50     6.95   3735.00\n",
              "max    34519.00     9.00  23631.00"
            ],
            "text/html": [
              "\n",
              "  <div id=\"df-fb84a13c-5d79-4844-b911-e7538c68dc81\">\n",
              "    <div class=\"colab-df-container\">\n",
              "      <div>\n",
              "<style scoped>\n",
              "    .dataframe tbody tr th:only-of-type {\n",
              "        vertical-align: middle;\n",
              "    }\n",
              "\n",
              "    .dataframe tbody tr th {\n",
              "        vertical-align: top;\n",
              "    }\n",
              "\n",
              "    .dataframe thead th {\n",
              "        text-align: right;\n",
              "    }\n",
              "</style>\n",
              "<table border=\"1\" class=\"dataframe\">\n",
              "  <thead>\n",
              "    <tr style=\"text-align: right;\">\n",
              "      <th></th>\n",
              "      <th>anime_id</th>\n",
              "      <th>rating</th>\n",
              "      <th>members</th>\n",
              "    </tr>\n",
              "  </thead>\n",
              "  <tbody>\n",
              "    <tr>\n",
              "      <th>count</th>\n",
              "      <td>9922.00</td>\n",
              "      <td>9922.00</td>\n",
              "      <td>9922.00</td>\n",
              "    </tr>\n",
              "    <tr>\n",
              "      <th>mean</th>\n",
              "      <td>13752.42</td>\n",
              "      <td>6.34</td>\n",
              "      <td>3259.68</td>\n",
              "    </tr>\n",
              "    <tr>\n",
              "      <th>std</th>\n",
              "      <td>11213.94</td>\n",
              "      <td>0.87</td>\n",
              "      <td>5053.61</td>\n",
              "    </tr>\n",
              "    <tr>\n",
              "      <th>min</th>\n",
              "      <td>8.00</td>\n",
              "      <td>3.96</td>\n",
              "      <td>17.00</td>\n",
              "    </tr>\n",
              "    <tr>\n",
              "      <th>25%</th>\n",
              "      <td>3517.25</td>\n",
              "      <td>5.79</td>\n",
              "      <td>178.00</td>\n",
              "    </tr>\n",
              "    <tr>\n",
              "      <th>50%</th>\n",
              "      <td>9884.50</td>\n",
              "      <td>6.42</td>\n",
              "      <td>959.50</td>\n",
              "    </tr>\n",
              "    <tr>\n",
              "      <th>75%</th>\n",
              "      <td>23907.50</td>\n",
              "      <td>6.95</td>\n",
              "      <td>3735.00</td>\n",
              "    </tr>\n",
              "    <tr>\n",
              "      <th>max</th>\n",
              "      <td>34519.00</td>\n",
              "      <td>9.00</td>\n",
              "      <td>23631.00</td>\n",
              "    </tr>\n",
              "  </tbody>\n",
              "</table>\n",
              "</div>\n",
              "      <button class=\"colab-df-convert\" onclick=\"convertToInteractive('df-fb84a13c-5d79-4844-b911-e7538c68dc81')\"\n",
              "              title=\"Convert this dataframe to an interactive table.\"\n",
              "              style=\"display:none;\">\n",
              "        \n",
              "  <svg xmlns=\"http://www.w3.org/2000/svg\" height=\"24px\"viewBox=\"0 0 24 24\"\n",
              "       width=\"24px\">\n",
              "    <path d=\"M0 0h24v24H0V0z\" fill=\"none\"/>\n",
              "    <path d=\"M18.56 5.44l.94 2.06.94-2.06 2.06-.94-2.06-.94-.94-2.06-.94 2.06-2.06.94zm-11 1L8.5 8.5l.94-2.06 2.06-.94-2.06-.94L8.5 2.5l-.94 2.06-2.06.94zm10 10l.94 2.06.94-2.06 2.06-.94-2.06-.94-.94-2.06-.94 2.06-2.06.94z\"/><path d=\"M17.41 7.96l-1.37-1.37c-.4-.4-.92-.59-1.43-.59-.52 0-1.04.2-1.43.59L10.3 9.45l-7.72 7.72c-.78.78-.78 2.05 0 2.83L4 21.41c.39.39.9.59 1.41.59.51 0 1.02-.2 1.41-.59l7.78-7.78 2.81-2.81c.8-.78.8-2.07 0-2.86zM5.41 20L4 18.59l7.72-7.72 1.47 1.35L5.41 20z\"/>\n",
              "  </svg>\n",
              "      </button>\n",
              "      \n",
              "  <style>\n",
              "    .colab-df-container {\n",
              "      display:flex;\n",
              "      flex-wrap:wrap;\n",
              "      gap: 12px;\n",
              "    }\n",
              "\n",
              "    .colab-df-convert {\n",
              "      background-color: #E8F0FE;\n",
              "      border: none;\n",
              "      border-radius: 50%;\n",
              "      cursor: pointer;\n",
              "      display: none;\n",
              "      fill: #1967D2;\n",
              "      height: 32px;\n",
              "      padding: 0 0 0 0;\n",
              "      width: 32px;\n",
              "    }\n",
              "\n",
              "    .colab-df-convert:hover {\n",
              "      background-color: #E2EBFA;\n",
              "      box-shadow: 0px 1px 2px rgba(60, 64, 67, 0.3), 0px 1px 3px 1px rgba(60, 64, 67, 0.15);\n",
              "      fill: #174EA6;\n",
              "    }\n",
              "\n",
              "    [theme=dark] .colab-df-convert {\n",
              "      background-color: #3B4455;\n",
              "      fill: #D2E3FC;\n",
              "    }\n",
              "\n",
              "    [theme=dark] .colab-df-convert:hover {\n",
              "      background-color: #434B5C;\n",
              "      box-shadow: 0px 1px 3px 1px rgba(0, 0, 0, 0.15);\n",
              "      filter: drop-shadow(0px 1px 2px rgba(0, 0, 0, 0.3));\n",
              "      fill: #FFFFFF;\n",
              "    }\n",
              "  </style>\n",
              "\n",
              "      <script>\n",
              "        const buttonEl =\n",
              "          document.querySelector('#df-fb84a13c-5d79-4844-b911-e7538c68dc81 button.colab-df-convert');\n",
              "        buttonEl.style.display =\n",
              "          google.colab.kernel.accessAllowed ? 'block' : 'none';\n",
              "\n",
              "        async function convertToInteractive(key) {\n",
              "          const element = document.querySelector('#df-fb84a13c-5d79-4844-b911-e7538c68dc81');\n",
              "          const dataTable =\n",
              "            await google.colab.kernel.invokeFunction('convertToInteractive',\n",
              "                                                     [key], {});\n",
              "          if (!dataTable) return;\n",
              "\n",
              "          const docLinkHtml = 'Like what you see? Visit the ' +\n",
              "            '<a target=\"_blank\" href=https://colab.research.google.com/notebooks/data_table.ipynb>data table notebook</a>'\n",
              "            + ' to learn more about interactive tables.';\n",
              "          element.innerHTML = '';\n",
              "          dataTable['output_type'] = 'display_data';\n",
              "          await google.colab.output.renderOutput(dataTable, element);\n",
              "          const docLink = document.createElement('div');\n",
              "          docLink.innerHTML = docLinkHtml;\n",
              "          element.appendChild(docLink);\n",
              "        }\n",
              "      </script>\n",
              "    </div>\n",
              "  </div>\n",
              "  "
            ]
          },
          "metadata": {},
          "execution_count": 39
        }
      ]
    },
    {
      "cell_type": "code",
      "source": [
        "anime_ovrl['genre'].value_counts(normalize=True).head(10)"
      ],
      "metadata": {
        "colab": {
          "base_uri": "https://localhost:8080/"
        },
        "id": "MkLrNRPRXSuj",
        "outputId": "cb4cb20b-8193-40db-fb6e-02357bb6d79e"
      },
      "execution_count": null,
      "outputs": [
        {
          "output_type": "execute_result",
          "data": {
            "text/plain": [
              "Hentai                   0.081738\n",
              "Comedy                   0.048277\n",
              "Music                    0.028724\n",
              "Kids                     0.018847\n",
              "Comedy, Slice of Life    0.015118\n",
              "Fantasy, Kids            0.012800\n",
              "Comedy, Kids             0.011086\n",
              "Dementia                 0.010986\n",
              "Fantasy                  0.010482\n",
              "Drama, Kids              0.010381\n",
              "Name: genre, dtype: float64"
            ]
          },
          "metadata": {},
          "execution_count": 40
        }
      ]
    },
    {
      "cell_type": "code",
      "source": [
        "anime_ovrl['genre'].value_counts().head(10).plot(kind='bar')\n",
        "plt.title('10 Teratas Genre Anime')\n",
        "plt.show()"
      ],
      "metadata": {
        "colab": {
          "base_uri": "https://localhost:8080/",
          "height": 584
        },
        "id": "jPt6Pn1sYLZp",
        "outputId": "4a15a828-1c15-4e5a-af17-6118efe80b70"
      },
      "execution_count": null,
      "outputs": [
        {
          "output_type": "display_data",
          "data": {
            "text/plain": [
              "<Figure size 640x480 with 1 Axes>"
            ],
            "image/png": "[encoded data removed]"
          },
          "metadata": {}
        }
      ]
    },
    {
      "cell_type": "code",
      "source": [
        "anime_ovrl.groupby('genre')['genre'].agg('count')"
      ],
      "metadata": {
        "colab": {
          "base_uri": "https://localhost:8080/"
        },
        "id": "x5UelgtfbCrb",
        "outputId": "518551bc-1efd-4625-c70d-ae9378637896"
      },
      "execution_count": null,
      "outputs": [
        {
          "output_type": "execute_result",
          "data": {
            "text/plain": [
              "genre\n",
              "Action                                                     51\n",
              "Action, Adventure                                          13\n",
              "Action, Adventure, Cars, Comedy, Sci-Fi, Shounen            2\n",
              "Action, Adventure, Cars, Mecha, Sci-Fi, Shounen, Sports     1\n",
              "Action, Adventure, Cars, Sci-Fi                             1\n",
              "                                                           ..\n",
              "Super Power, Supernatural, Vampire                          1\n",
              "Supernatural                                               14\n",
              "Thriller                                                    1\n",
              "Vampire                                                     1\n",
              "Yaoi                                                        2\n",
              "Name: genre, Length: 2561, dtype: int64"
            ]
          },
          "metadata": {},
          "execution_count": 42
        }
      ]
    },
    {
      "cell_type": "code",
      "source": [
        "rtg_anime.describe().apply(lambda s: s.apply('{0:.2f}'.format))"
      ],
      "metadata": {
        "colab": {
          "base_uri": "https://localhost:8080/",
          "height": 300
        },
        "id": "6O8sVbKWZwGi",
        "outputId": "a9e61f4d-94f7-42cc-dec0-ebe99d62857d"
      },
      "execution_count": null,
      "outputs": [
        {
          "output_type": "execute_result",
          "data": {
            "text/plain": [
              "          user_id    anime_id      rating\n",
              "count  6316305.00  6316305.00  6316305.00\n",
              "mean     36749.11     8888.00        7.83\n",
              "std      21014.12     8862.32        1.54\n",
              "min          1.00        1.00        2.00\n",
              "25%      18978.00     1238.00        7.00\n",
              "50%      36822.00     6211.00        8.00\n",
              "75%      54873.00    14075.00        9.00\n",
              "max      73516.00    33372.00       10.00"
            ],
            "text/html": [
              "\n",
              "  <div id=\"df-76f95b88-3bc6-4d7f-a5a2-6af253e0de50\">\n",
              "    <div class=\"colab-df-container\">\n",
              "      <div>\n",
              "<style scoped>\n",
              "    .dataframe tbody tr th:only-of-type {\n",
              "        vertical-align: middle;\n",
              "    }\n",
              "\n",
              "    .dataframe tbody tr th {\n",
              "        vertical-align: top;\n",
              "    }\n",
              "\n",
              "    .dataframe thead th {\n",
              "        text-align: right;\n",
              "    }\n",
              "</style>\n",
              "<table border=\"1\" class=\"dataframe\">\n",
              "  <thead>\n",
              "    <tr style=\"text-align: right;\">\n",
              "      <th></th>\n",
              "      <th>user_id</th>\n",
              "      <th>anime_id</th>\n",
              "      <th>rating</th>\n",
              "    </tr>\n",
              "  </thead>\n",
              "  <tbody>\n",
              "    <tr>\n",
              "      <th>count</th>\n",
              "      <td>6316305.00</td>\n",
              "      <td>6316305.00</td>\n",
              "      <td>6316305.00</td>\n",
              "    </tr>\n",
              "    <tr>\n",
              "      <th>mean</th>\n",
              "      <td>36749.11</td>\n",
              "      <td>8888.00</td>\n",
              "      <td>7.83</td>\n",
              "    </tr>\n",
              "    <tr>\n",
              "      <th>std</th>\n",
              "      <td>21014.12</td>\n",
              "      <td>8862.32</td>\n",
              "      <td>1.54</td>\n",
              "    </tr>\n",
              "    <tr>\n",
              "      <th>min</th>\n",
              "      <td>1.00</td>\n",
              "      <td>1.00</td>\n",
              "      <td>2.00</td>\n",
              "    </tr>\n",
              "    <tr>\n",
              "      <th>25%</th>\n",
              "      <td>18978.00</td>\n",
              "      <td>1238.00</td>\n",
              "      <td>7.00</td>\n",
              "    </tr>\n",
              "    <tr>\n",
              "      <th>50%</th>\n",
              "      <td>36822.00</td>\n",
              "      <td>6211.00</td>\n",
              "      <td>8.00</td>\n",
              "    </tr>\n",
              "    <tr>\n",
              "      <th>75%</th>\n",
              "      <td>54873.00</td>\n",
              "      <td>14075.00</td>\n",
              "      <td>9.00</td>\n",
              "    </tr>\n",
              "    <tr>\n",
              "      <th>max</th>\n",
              "      <td>73516.00</td>\n",
              "      <td>33372.00</td>\n",
              "      <td>10.00</td>\n",
              "    </tr>\n",
              "  </tbody>\n",
              "</table>\n",
              "</div>\n",
              "      <button class=\"colab-df-convert\" onclick=\"convertToInteractive('df-76f95b88-3bc6-4d7f-a5a2-6af253e0de50')\"\n",
              "              title=\"Convert this dataframe to an interactive table.\"\n",
              "              style=\"display:none;\">\n",
              "        \n",
              "  <svg xmlns=\"http://www.w3.org/2000/svg\" height=\"24px\"viewBox=\"0 0 24 24\"\n",
              "       width=\"24px\">\n",
              "    <path d=\"M0 0h24v24H0V0z\" fill=\"none\"/>\n",
              "    <path d=\"M18.56 5.44l.94 2.06.94-2.06 2.06-.94-2.06-.94-.94-2.06-.94 2.06-2.06.94zm-11 1L8.5 8.5l.94-2.06 2.06-.94-2.06-.94L8.5 2.5l-.94 2.06-2.06.94zm10 10l.94 2.06.94-2.06 2.06-.94-2.06-.94-.94-2.06-.94 2.06-2.06.94z\"/><path d=\"M17.41 7.96l-1.37-1.37c-.4-.4-.92-.59-1.43-.59-.52 0-1.04.2-1.43.59L10.3 9.45l-7.72 7.72c-.78.78-.78 2.05 0 2.83L4 21.41c.39.39.9.59 1.41.59.51 0 1.02-.2 1.41-.59l7.78-7.78 2.81-2.81c.8-.78.8-2.07 0-2.86zM5.41 20L4 18.59l7.72-7.72 1.47 1.35L5.41 20z\"/>\n",
              "  </svg>\n",
              "      </button>\n",
              "      \n",
              "  <style>\n",
              "    .colab-df-container {\n",
              "      display:flex;\n",
              "      flex-wrap:wrap;\n",
              "      gap: 12px;\n",
              "    }\n",
              "\n",
              "    .colab-df-convert {\n",
              "      background-color: #E8F0FE;\n",
              "      border: none;\n",
              "      border-radius: 50%;\n",
              "      cursor: pointer;\n",
              "      display: none;\n",
              "      fill: #1967D2;\n",
              "      height: 32px;\n",
              "      padding: 0 0 0 0;\n",
              "      width: 32px;\n",
              "    }\n",
              "\n",
              "    .colab-df-convert:hover {\n",
              "      background-color: #E2EBFA;\n",
              "      box-shadow: 0px 1px 2px rgba(60, 64, 67, 0.3), 0px 1px 3px 1px rgba(60, 64, 67, 0.15);\n",
              "      fill: #174EA6;\n",
              "    }\n",
              "\n",
              "    [theme=dark] .colab-df-convert {\n",
              "      background-color: #3B4455;\n",
              "      fill: #D2E3FC;\n",
              "    }\n",
              "\n",
              "    [theme=dark] .colab-df-convert:hover {\n",
              "      background-color: #434B5C;\n",
              "      box-shadow: 0px 1px 3px 1px rgba(0, 0, 0, 0.15);\n",
              "      filter: drop-shadow(0px 1px 2px rgba(0, 0, 0, 0.3));\n",
              "      fill: #FFFFFF;\n",
              "    }\n",
              "  </style>\n",
              "\n",
              "      <script>\n",
              "        const buttonEl =\n",
              "          document.querySelector('#df-76f95b88-3bc6-4d7f-a5a2-6af253e0de50 button.colab-df-convert');\n",
              "        buttonEl.style.display =\n",
              "          google.colab.kernel.accessAllowed ? 'block' : 'none';\n",
              "\n",
              "        async function convertToInteractive(key) {\n",
              "          const element = document.querySelector('#df-76f95b88-3bc6-4d7f-a5a2-6af253e0de50');\n",
              "          const dataTable =\n",
              "            await google.colab.kernel.invokeFunction('convertToInteractive',\n",
              "                                                     [key], {});\n",
              "          if (!dataTable) return;\n",
              "\n",
              "          const docLinkHtml = 'Like what you see? Visit the ' +\n",
              "            '<a target=\"_blank\" href=https://colab.research.google.com/notebooks/data_table.ipynb>data table notebook</a>'\n",
              "            + ' to learn more about interactive tables.';\n",
              "          element.innerHTML = '';\n",
              "          dataTable['output_type'] = 'display_data';\n",
              "          await google.colab.output.renderOutput(dataTable, element);\n",
              "          const docLink = document.createElement('div');\n",
              "          docLink.innerHTML = docLinkHtml;\n",
              "          element.appendChild(docLink);\n",
              "        }\n",
              "      </script>\n",
              "    </div>\n",
              "  </div>\n",
              "  "
            ]
          },
          "metadata": {},
          "execution_count": 43
        }
      ]
    },
    {
      "cell_type": "code",
      "source": [
        "rtg_anime = rtg_anime[~(rtg_anime.rating == -1)]"
      ],
      "metadata": {
        "id": "flvFb6DsaHBh"
      },
      "execution_count": null,
      "outputs": []
    },
    {
      "cell_type": "code",
      "source": [
        "print('rating terbanyak oleh 1 user:', max(rtg_anime['user_id'].value_counts().values))\n",
        "print('rating tersedikit oleh 1 user:', min(rtg_anime['user_id'].value_counts().values))\n",
        "print('jumlah rating oleh 1 user:', rtg_anime['user_id'].value_counts().median())"
      ],
      "metadata": {
        "colab": {
          "base_uri": "https://localhost:8080/"
        },
        "id": "Hti9sDiPYRmr",
        "outputId": "7f1323af-b7a7-4983-b6ae-94919778859e"
      },
      "execution_count": null,
      "outputs": [
        {
          "output_type": "stream",
          "name": "stdout",
          "text": [
            "rating terbanyak oleh 1 user: 3747\n",
            "rating tersedikit oleh 1 user: 1\n",
            "jumlah rating oleh 1 user: 45.0\n"
          ]
        }
      ]
    },
    {
      "cell_type": "code",
      "source": [
        "print('rating terbanyak untuk 1 anime:', max(rtg_anime['anime_id'].value_counts().values))\n",
        "print('rating tersedikit untuk 1 anime:', min(rtg_anime['anime_id'].value_counts().values))\n",
        "print('jumlah rating untuk 1 anime AVG:', rtg_anime['anime_id'].value_counts().median())"
      ],
      "metadata": {
        "colab": {
          "base_uri": "https://localhost:8080/"
        },
        "id": "IBPx1JbtbQDh",
        "outputId": "5be480ae-44f4-4fae-d6df-eb1faa491559"
      },
      "execution_count": null,
      "outputs": [
        {
          "output_type": "stream",
          "name": "stdout",
          "text": [
            "rating terbanyak untuk 1 anime: 34196\n",
            "rating tersedikit untuk 1 anime: 1\n",
            "jumlah rating untuk 1 anime AVG: 58.0\n"
          ]
        }
      ]
    },
    {
      "cell_type": "code",
      "source": [
        "sns.histplot(x='rating', data=rtg_anime)"
      ],
      "metadata": {
        "colab": {
          "base_uri": "https://localhost:8080/",
          "height": 482
        },
        "id": "LHVgYfqKb6k8",
        "outputId": "0d1343aa-bd90-4a94-83c9-1d90391b11b8"
      },
      "execution_count": null,
      "outputs": [
        {
          "output_type": "execute_result",
          "data": {
            "text/plain": [
              "<Axes: xlabel='rating', ylabel='Count'>"
            ]
          },
          "metadata": {},
          "execution_count": 47
        },
        {
          "output_type": "display_data",
          "data": {
            "text/plain": [
              "<Figure size 640x480 with 1 Axes>"
            ],
            "image/png": "[encoded data removed]"
          },
          "metadata": {}
        }
      ]
    },
    {
      "cell_type": "markdown",
      "source": [
        "# **Data Preparation**\n",
        "\n",
        "Pada tahapan ini saya melakukan:\n",
        "1. Encoding kolom user id dan dan anime id yang bertujuan untuk mengubah data dari format yang asli menjadi format yang dapat dipahami atau diproses oleh komputer. Encoding adalah proses representasi data dengan menggunakan aturan tertentu agar dapat disimpan, ditransmisikan, atau diproses dengan efisien dan akurat.\n",
        "2. Normalisasi nilai rating untuk memudahkan training hal ini bertujuan data untuk mengubahnya menjadi bentuk yang lebih terstandarisasi atau normal. Tujuan normalisasi adalah untuk menghilangkan perbedaan skala, mengurangi bias, atau menyesuaikan data agar dapat dibandingkan atau diproses dengan lebih baik.\n",
        "3. Train-Test Split untuk melakukan validasi model dengan pembagian 80% data training dan 20% data testing"
      ],
      "metadata": {
        "id": "IDmAWWtkdywa"
      }
    },
    {
      "cell_type": "code",
      "source": [
        "df_train = rtg_anime.copy()"
      ],
      "metadata": {
        "id": "wdWJRVDzd76L"
      },
      "execution_count": null,
      "outputs": []
    },
    {
      "cell_type": "code",
      "source": [
        "df_train"
      ],
      "metadata": {
        "colab": {
          "base_uri": "https://localhost:8080/",
          "height": 423
        },
        "id": "4go1dKGJeN_R",
        "outputId": "f4a53cf7-3e1d-4c53-b8b6-92a0c0155a9e"
      },
      "execution_count": null,
      "outputs": [
        {
          "output_type": "execute_result",
          "data": {
            "text/plain": [
              "         user_id  anime_id  rating\n",
              "2620444    23423      2914     6.0\n",
              "2485529    22329      1537     9.0\n",
              "5627909    49979       105     9.0\n",
              "4638754    41895      1087     8.0\n",
              "62372        611        65     8.0\n",
              "...          ...       ...     ...\n",
              "1943771    17807       250     7.0\n",
              "2754732    24487      1180     7.0\n",
              "6105581    54230       563     5.0\n",
              "5343172    47846      1073     9.0\n",
              "2095273    19154      2819     9.0\n",
              "\n",
              "[6316305 rows x 3 columns]"
            ],
            "text/html": [
              "\n",
              "  <div id=\"df-aea92079-2cfa-48f8-9524-d894bc657780\">\n",
              "    <div class=\"colab-df-container\">\n",
              "      <div>\n",
              "<style scoped>\n",
              "    .dataframe tbody tr th:only-of-type {\n",
              "        vertical-align: middle;\n",
              "    }\n",
              "\n",
              "    .dataframe tbody tr th {\n",
              "        vertical-align: top;\n",
              "    }\n",
              "\n",
              "    .dataframe thead th {\n",
              "        text-align: right;\n",
              "    }\n",
              "</style>\n",
              "<table border=\"1\" class=\"dataframe\">\n",
              "  <thead>\n",
              "    <tr style=\"text-align: right;\">\n",
              "      <th></th>\n",
              "      <th>user_id</th>\n",
              "      <th>anime_id</th>\n",
              "      <th>rating</th>\n",
              "    </tr>\n",
              "  </thead>\n",
              "  <tbody>\n",
              "    <tr>\n",
              "      <th>2620444</th>\n",
              "      <td>23423</td>\n",
              "      <td>2914</td>\n",
              "      <td>6.0</td>\n",
              "    </tr>\n",
              "    <tr>\n",
              "      <th>2485529</th>\n",
              "      <td>22329</td>\n",
              "      <td>1537</td>\n",
              "      <td>9.0</td>\n",
              "    </tr>\n",
              "    <tr>\n",
              "      <th>5627909</th>\n",
              "      <td>49979</td>\n",
              "      <td>105</td>\n",
              "      <td>9.0</td>\n",
              "    </tr>\n",
              "    <tr>\n",
              "      <th>4638754</th>\n",
              "      <td>41895</td>\n",
              "      <td>1087</td>\n",
              "      <td>8.0</td>\n",
              "    </tr>\n",
              "    <tr>\n",
              "      <th>62372</th>\n",
              "      <td>611</td>\n",
              "      <td>65</td>\n",
              "      <td>8.0</td>\n",
              "    </tr>\n",
              "    <tr>\n",
              "      <th>...</th>\n",
              "      <td>...</td>\n",
              "      <td>...</td>\n",
              "      <td>...</td>\n",
              "    </tr>\n",
              "    <tr>\n",
              "      <th>1943771</th>\n",
              "      <td>17807</td>\n",
              "      <td>250</td>\n",
              "      <td>7.0</td>\n",
              "    </tr>\n",
              "    <tr>\n",
              "      <th>2754732</th>\n",
              "      <td>24487</td>\n",
              "      <td>1180</td>\n",
              "      <td>7.0</td>\n",
              "    </tr>\n",
              "    <tr>\n",
              "      <th>6105581</th>\n",
              "      <td>54230</td>\n",
              "      <td>563</td>\n",
              "      <td>5.0</td>\n",
              "    </tr>\n",
              "    <tr>\n",
              "      <th>5343172</th>\n",
              "      <td>47846</td>\n",
              "      <td>1073</td>\n",
              "      <td>9.0</td>\n",
              "    </tr>\n",
              "    <tr>\n",
              "      <th>2095273</th>\n",
              "      <td>19154</td>\n",
              "      <td>2819</td>\n",
              "      <td>9.0</td>\n",
              "    </tr>\n",
              "  </tbody>\n",
              "</table>\n",
              "<p>6316305 rows × 3 columns</p>\n",
              "</div>\n",
              "      <button class=\"colab-df-convert\" onclick=\"convertToInteractive('df-aea92079-2cfa-48f8-9524-d894bc657780')\"\n",
              "              title=\"Convert this dataframe to an interactive table.\"\n",
              "              style=\"display:none;\">\n",
              "        \n",
              "  <svg xmlns=\"http://www.w3.org/2000/svg\" height=\"24px\"viewBox=\"0 0 24 24\"\n",
              "       width=\"24px\">\n",
              "    <path d=\"M0 0h24v24H0V0z\" fill=\"none\"/>\n",
              "    <path d=\"M18.56 5.44l.94 2.06.94-2.06 2.06-.94-2.06-.94-.94-2.06-.94 2.06-2.06.94zm-11 1L8.5 8.5l.94-2.06 2.06-.94-2.06-.94L8.5 2.5l-.94 2.06-2.06.94zm10 10l.94 2.06.94-2.06 2.06-.94-2.06-.94-.94-2.06-.94 2.06-2.06.94z\"/><path d=\"M17.41 7.96l-1.37-1.37c-.4-.4-.92-.59-1.43-.59-.52 0-1.04.2-1.43.59L10.3 9.45l-7.72 7.72c-.78.78-.78 2.05 0 2.83L4 21.41c.39.39.9.59 1.41.59.51 0 1.02-.2 1.41-.59l7.78-7.78 2.81-2.81c.8-.78.8-2.07 0-2.86zM5.41 20L4 18.59l7.72-7.72 1.47 1.35L5.41 20z\"/>\n",
              "  </svg>\n",
              "      </button>\n",
              "      \n",
              "  <style>\n",
              "    .colab-df-container {\n",
              "      display:flex;\n",
              "      flex-wrap:wrap;\n",
              "      gap: 12px;\n",
              "    }\n",
              "\n",
              "    .colab-df-convert {\n",
              "      background-color: #E8F0FE;\n",
              "      border: none;\n",
              "      border-radius: 50%;\n",
              "      cursor: pointer;\n",
              "      display: none;\n",
              "      fill: #1967D2;\n",
              "      height: 32px;\n",
              "      padding: 0 0 0 0;\n",
              "      width: 32px;\n",
              "    }\n",
              "\n",
              "    .colab-df-convert:hover {\n",
              "      background-color: #E2EBFA;\n",
              "      box-shadow: 0px 1px 2px rgba(60, 64, 67, 0.3), 0px 1px 3px 1px rgba(60, 64, 67, 0.15);\n",
              "      fill: #174EA6;\n",
              "    }\n",
              "\n",
              "    [theme=dark] .colab-df-convert {\n",
              "      background-color: #3B4455;\n",
              "      fill: #D2E3FC;\n",
              "    }\n",
              "\n",
              "    [theme=dark] .colab-df-convert:hover {\n",
              "      background-color: #434B5C;\n",
              "      box-shadow: 0px 1px 3px 1px rgba(0, 0, 0, 0.15);\n",
              "      filter: drop-shadow(0px 1px 2px rgba(0, 0, 0, 0.3));\n",
              "      fill: #FFFFFF;\n",
              "    }\n",
              "  </style>\n",
              "\n",
              "      <script>\n",
              "        const buttonEl =\n",
              "          document.querySelector('#df-aea92079-2cfa-48f8-9524-d894bc657780 button.colab-df-convert');\n",
              "        buttonEl.style.display =\n",
              "          google.colab.kernel.accessAllowed ? 'block' : 'none';\n",
              "\n",
              "        async function convertToInteractive(key) {\n",
              "          const element = document.querySelector('#df-aea92079-2cfa-48f8-9524-d894bc657780');\n",
              "          const dataTable =\n",
              "            await google.colab.kernel.invokeFunction('convertToInteractive',\n",
              "                                                     [key], {});\n",
              "          if (!dataTable) return;\n",
              "\n",
              "          const docLinkHtml = 'Like what you see? Visit the ' +\n",
              "            '<a target=\"_blank\" href=https://colab.research.google.com/notebooks/data_table.ipynb>data table notebook</a>'\n",
              "            + ' to learn more about interactive tables.';\n",
              "          element.innerHTML = '';\n",
              "          dataTable['output_type'] = 'display_data';\n",
              "          await google.colab.output.renderOutput(dataTable, element);\n",
              "          const docLink = document.createElement('div');\n",
              "          docLink.innerHTML = docLinkHtml;\n",
              "          element.appendChild(docLink);\n",
              "        }\n",
              "      </script>\n",
              "    </div>\n",
              "  </div>\n",
              "  "
            ]
          },
          "metadata": {},
          "execution_count": 71
        }
      ]
    },
    {
      "cell_type": "code",
      "source": [
        "user_ids = df_train['user_id'].unique().tolist()\n",
        "user_to_user_encoded = {x: i for i, x in enumerate(user_ids)}\n",
        "user_encoded_to_user = {i: x for i, x in enumerate(user_ids)}\n",
        "\n",
        "anime_ids = df_train['anime_id'].unique().tolist()\n",
        "anime_to_anime_encoded = {x: i for i, x in enumerate(anime_ids)}\n",
        "anime_encoded_to_anime = {i: x for i, x in enumerate(anime_ids)}"
      ],
      "metadata": {
        "id": "feBVnw2Gd1oN"
      },
      "execution_count": null,
      "outputs": []
    },
    {
      "cell_type": "code",
      "source": [
        "df_train['user_id'] = df_train['user_id'].map(user_to_user_encoded)\n",
        "df_train['anime_id'] = df_train['anime_id'].map(anime_to_anime_encoded)\n",
        "\n",
        "num_users = len(user_to_user_encoded)\n",
        "num_anime = len(anime_to_anime_encoded)"
      ],
      "metadata": {
        "id": "sOVXjJi_e3Nz"
      },
      "execution_count": null,
      "outputs": []
    },
    {
      "cell_type": "code",
      "source": [
        "df_train['rating'] = df_train['rating'].values.astype(np.float32)\n",
        "min_rating = min(df_train['rating'])\n",
        "max_rating = max(df_train['rating'])"
      ],
      "metadata": {
        "id": "nVl0wNyKelhU"
      },
      "execution_count": null,
      "outputs": []
    },
    {
      "cell_type": "code",
      "source": [
        "df_train = df_train.sample(frac=1, random_state=42)\n",
        "X = df_train[['user_id', 'anime_id']].values\n",
        "y = df_train['rating'].apply(lambda x: (x - min_rating) / (max_rating - min_rating)).values\n",
        "train_indices = int(0.8 * df_train.shape[0])\n",
        "\n",
        "X_train, X_test, y_train, y_test = (X[:train_indices], X[train_indices:], y[:train_indices], y[train_indices:])"
      ],
      "metadata": {
        "id": "AFDXtrgpfm07"
      },
      "execution_count": null,
      "outputs": []
    },
    {
      "cell_type": "markdown",
      "source": [
        "# **Modelling**\n",
        "\n",
        "Dalam proyek ini, saya menggunakan dua jenis sistem rekomendasi yaitu *content-based filtering* (CBF) dan *collaborative filtering* (CF). Untuk CBF, saya akan menggunakan vektorisasi TF-IDF dan cosine similarity sebagai similarity function-nya.\n",
        "Untuk kelebihan vektorisasi TF-IDF adalah :\n",
        "1. Merepresentasikan kepentingan relatif kata dalam dokumen: Dengan menggunakan skema bobot TF-IDF, vektorisasi TF-IDF memberikan bobot yang lebih tinggi untuk kata-kata yang jarang muncul dalam dokumen tetapi muncul secara khusus dalam dokumen tertentu. Hal ini membantu dalam mengidentifikasi kata-kata kunci atau kata-kata yang paling mewakili dokumen.\n",
        "2. Mengurangi dampak kata-kata umum: Vektorisasi TF-IDF secara inheren memberikan bobot yang lebih rendah untuk kata-kata umum yang muncul di banyak dokumen. Ini membantu dalam mengidentifikasi kata-kata yang lebih spesifik dan lebih deskriptif dari sebuah dokumen.\n",
        "3. Efektif dalam mewakili dokumen panjang: Vektorisasi TF-IDF cenderung efektif dalam mengatasi masalah dokumen yang panjang dengan banyak kata. Bobot TF-IDF membantu dalam menyoroti kata-kata kunci yang unik dan penting dalam dokumen.\n",
        "\n",
        "Untuk kekurangan vektorisasi TF-IDF :\n",
        "1. Tidak memperhitungkan konteks kata: Vektorisasi TF-IDF hanya memperhitungkan keberadaan kata dalam dokumen dan frekuensi kemunculannya, tanpa memperhitungkan konteks kata. Artinya, informasi tentang urutan kata dan hubungannya tidak diperhitungkan dalam vektorisasi ini.\n",
        "2. Tidak mempertimbangkan makna kata: Vektorisasi TF-IDF tidak mempertimbangkan makna kata-kata secara langsung. Hal ini dapat menyebabkan masalah jika kata-kata yang serupa secara makna tetapi berbeda secara ortografi diberikan bobot yang berbeda secara signifikan.\n",
        "\n",
        "Kelebihan cosine similarity: \n",
        "1. Mengukur kesamaan semantik: Cosine similarity mengukur kesamaan antara dua vektor dokumen berdasarkan arah dan bukan panjang vektor. Ini memungkinkan pengukuran kesamaan yang lebih baik secara semantik daripada hanya menggunakan frekuensi kata.\n",
        "2. Skala independen: Cosine similarity tidak tergantung pada skala data atau panjang dokumen. Hal ini memungkinkan perbandingan yang adil antara dokumen-dokumen dengan panjang yang berbeda.\n",
        "\n",
        "Kekurangan cosine similarity:\n",
        "1. Tidak memperhitungkan konteks kata: Seperti halnya vektorisasi TF-IDF, cosine similarity juga tidak memperhitungkan konteks kata. Informasi tentang urutan kata dan hubungannya tidak diperhitungkan dalam perhitungan kesamaan.\n",
        "2. Rentan terhadap kata-kata umum: Cosine similarity tidak secara langsung mengurangi dampak kata-kata umum. Kata-kata yang sering muncul dalam banyak dokumen dapat memiliki bobot yang tinggi dan mempengaruhi hasil perhitungan kesamaan.\n",
        "\n",
        "Hasil output dari CBF ada di Gambar 4 sebagai berikut:\n",
        "![Oni rekomendasi](https://i.ibb.co/NjSvjzX/oni-rekomendasi.png)\n",
        "Gambar 4. Hasil Prediksi CBF\n",
        "Dari Gambar 4 dapat dilihat kalau sistem ingin merekomendasikan judul \"Oni\" dengan genre demon, historikal, dan supernatural. Sistem dapat merekomendasikan dengan genre yang tepat dengan sesuai dan presisi.\n",
        "\n",
        "Lalu untuk *collaborative filtering* (CF) merupakan salah satu metode yang digunakan dalam sistem rekomendasi untuk menyajikan rekomendasi kepada pengguna berdasarkan preferensi atau perilaku pengguna lain yang memiliki kesamaan dengan pengguna tersebut. Metode ini memanfaatkan informasi dari pengguna-pengguna lain atau item-item yang serupa untuk memberikan rekomendasi.\n",
        "\n",
        "Kelebihan CF:\n",
        "1. Memperhitungkan preferensi pengguna: Collaborative filtering memperhitungkan preferensi pengguna berdasarkan data riwayat pengguna atau perilaku pengguna lain yang memiliki kesamaan dengan pengguna target. Hal ini memungkinkan rekomendasi yang lebih personal dan relevan dengan preferensi pengguna.\n",
        "2. Tidak membutuhkan informasi konten: Collaborative filtering tidak membutuhkan informasi rinci tentang item atau konten yang direkomendasikan. Ini memungkinkan sistem rekomendasi untuk memberikan rekomendasi bahkan jika tidak ada informasi konten yang tersedia.\n",
        "3. Dapat menemukan preferensi baru: Collaborative filtering dapat menemukan preferensi baru yang mungkin tidak terdeteksi oleh metode rekomendasi lainnya. Hal ini terjadi ketika pengguna memiliki preferensi yang sama dengan pengguna lain yang tidak terduga.\n",
        "\n",
        "Kekurangan CF:\n",
        "1. Masalah cold start: Collaborative filtering menghadapi masalah cold start ketika sistem tidak memiliki informasi yang cukup tentang pengguna baru atau item baru. Dalam situasi ini, sulit untuk memberikan rekomendasi yang akurat karena tidak ada data riwayat yang cukup untuk digunakan dalam perhitungan rekomendasi.\n",
        "2. Masalah skalabilitas: Ketika jumlah pengguna dan item sangat besar, perhitungan kesamaan dan penyimpanan data kolaboratif bisa menjadi rumit dan memakan waktu. Hal ini dapat mempengaruhi kinerja sistem rekomendasi dan memerlukan infrastruktur yang kuat untuk menangani volume data yang besar.\n",
        "3. Efek \"filter bubble\": Collaborative filtering cenderung memperkuat preferensi yang ada dan membentuk apa yang disebut \"filter bubble\". Pengguna mungkin terpapar dengan rekomendasi yang serupa dan tidak cukup beragam, sehingga mengurangi variasi dan eksplorasi pengguna dalam menemukan hal-hal baru.\n",
        "\n",
        "Penggunaan collaborative filtering yang efektif membutuhkan jumlah data yang signifikan dan keberadaan pengguna dan item yang serupa. Selain itu, perlu memperhatikan dan mengatasi masalah cold start dan efek \"filter bubble\" untuk memberikan rekomendasi yang berkualitas.\n",
        "\n",
        "Hasil output dari CF ada di Gambar 5 sebagai berikut:\n",
        "![CF rekomendasi](https://i.ibb.co/Rh9SS6K/CF.png)\n",
        "Gambar 5. CF rekomendasi"
      ],
      "metadata": {
        "id": "XhYyQTWAf5fU"
      }
    },
    {
      "cell_type": "code",
      "source": [
        "from sklearn.feature_extraction.text import TfidfVectorizer\n",
        "from sklearn.metrics.pairwise import cosine_similarity\n",
        "\n",
        "tf = TfidfVectorizer()\n",
        "tf.fit(anime_ovrl['genre']) \n",
        "tf.get_feature_names_out()"
      ],
      "metadata": {
        "colab": {
          "base_uri": "https://localhost:8080/"
        },
        "id": "KkTl3Ok0f24l",
        "outputId": "47d64909-6ff2-4926-f2c9-af4aaa614620"
      },
      "execution_count": null,
      "outputs": [
        {
          "output_type": "execute_result",
          "data": {
            "text/plain": [
              "array(['action', 'adventure', 'ai', 'arts', 'cars', 'comedy', 'dementia',\n",
              "       'demons', 'drama', 'ecchi', 'fantasy', 'fi', 'game', 'harem',\n",
              "       'hentai', 'historical', 'horror', 'josei', 'kids', 'life', 'magic',\n",
              "       'martial', 'mecha', 'military', 'music', 'mystery', 'of', 'parody',\n",
              "       'police', 'power', 'psychological', 'romance', 'samurai', 'school',\n",
              "       'sci', 'seinen', 'shoujo', 'shounen', 'slice', 'space', 'sports',\n",
              "       'super', 'supernatural', 'thriller', 'vampire', 'yaoi', 'yuri'],\n",
              "      dtype=object)"
            ]
          },
          "metadata": {},
          "execution_count": 54
        }
      ]
    },
    {
      "cell_type": "code",
      "source": [
        "tfidf_matrix = tf.fit_transform(anime_ovrl['genre'])\n",
        "tfidf_matrix.shape "
      ],
      "metadata": {
        "colab": {
          "base_uri": "https://localhost:8080/"
        },
        "id": "g01hYj0siD6P",
        "outputId": "5a8bb4ee-7f0d-4b76-b271-b838afbe20f1"
      },
      "execution_count": null,
      "outputs": [
        {
          "output_type": "execute_result",
          "data": {
            "text/plain": [
              "(9922, 47)"
            ]
          },
          "metadata": {},
          "execution_count": 55
        }
      ]
    },
    {
      "cell_type": "code",
      "source": [
        "tfidf_matrix.todense()"
      ],
      "metadata": {
        "colab": {
          "base_uri": "https://localhost:8080/"
        },
        "id": "_S-Bz8-PhK-j",
        "outputId": "bdf0d00f-31cd-4d3b-c49c-3e7ad94c3fc3"
      },
      "execution_count": null,
      "outputs": [
        {
          "output_type": "execute_result",
          "data": {
            "text/plain": [
              "matrix([[0.        , 0.        , 0.        , ..., 0.        , 0.        ,\n",
              "         0.        ],\n",
              "        [0.26121435, 0.        , 0.        , ..., 0.        , 0.        ,\n",
              "         0.        ],\n",
              "        [0.        , 0.        , 0.        , ..., 0.        , 0.        ,\n",
              "         0.        ],\n",
              "        ...,\n",
              "        [0.        , 0.        , 0.        , ..., 0.        , 0.        ,\n",
              "         0.        ],\n",
              "        [0.        , 0.        , 0.        , ..., 0.        , 0.        ,\n",
              "         0.        ],\n",
              "        [0.        , 0.        , 0.        , ..., 0.        , 0.        ,\n",
              "         0.        ]])"
            ]
          },
          "metadata": {},
          "execution_count": 56
        }
      ]
    },
    {
      "cell_type": "code",
      "source": [
        "cosine_sim = cosine_similarity(tfidf_matrix) \n",
        "cosine_sim"
      ],
      "metadata": {
        "colab": {
          "base_uri": "https://localhost:8080/"
        },
        "id": "jTeWpFHUiTF0",
        "outputId": "19dda20f-f54d-457a-ff3d-42435581b79a"
      },
      "execution_count": null,
      "outputs": [
        {
          "output_type": "execute_result",
          "data": {
            "text/plain": [
              "array([[1.        , 0.48826893, 0.1557474 , ..., 0.        , 0.        ,\n",
              "        0.        ],\n",
              "       [0.48826893, 1.        , 0.07604662, ..., 0.        , 0.        ,\n",
              "        0.        ],\n",
              "       [0.1557474 , 0.07604662, 1.        , ..., 0.        , 0.        ,\n",
              "        0.        ],\n",
              "       ...,\n",
              "       [0.        , 0.        , 0.        , ..., 1.        , 1.        ,\n",
              "        1.        ],\n",
              "       [0.        , 0.        , 0.        , ..., 1.        , 1.        ,\n",
              "        1.        ],\n",
              "       [0.        , 0.        , 0.        , ..., 1.        , 1.        ,\n",
              "        1.        ]])"
            ]
          },
          "metadata": {},
          "execution_count": 57
        }
      ]
    },
    {
      "cell_type": "code",
      "source": [
        "cosine_sim_df = pd.DataFrame(cosine_sim, index=anime_ovrl['name'], columns=anime_ovrl['name'])\n",
        "print('Shape:', cosine_sim_df.shape)\n",
        "cosine_sim_df.sample(5, axis=1).sample(10, axis=0)"
      ],
      "metadata": {
        "colab": {
          "base_uri": "https://localhost:8080/",
          "height": 490
        },
        "id": "CdYXYttXimjb",
        "outputId": "8abd8c6f-f416-48b9-ecd3-97783965a4e9"
      },
      "execution_count": null,
      "outputs": [
        {
          "output_type": "stream",
          "name": "stdout",
          "text": [
            "Shape: (9922, 9922)\n"
          ]
        },
        {
          "output_type": "execute_result",
          "data": {
            "text/plain": [
              "name                                                Hong Kil-dong  \\\n",
              "name                                                                \n",
              "Magic-Kyun! Renaissance                                  0.000000   \n",
              "Gifuu Doudou!!: Kanetsugu to Keiji                       0.235785   \n",
              "Jinxiu Shenzhou Zhi Qi You Ji                            0.718618   \n",
              "Yodaka no Hoshi                                          0.337744   \n",
              "The Olympic Challenge                                    0.000000   \n",
              "Huckleberry no Bouken (Movie)                            0.720647   \n",
              "Ticonderonga no Iru Umi                                  0.465570   \n",
              "Penguin Musume♥Heart                                     0.000000   \n",
              "Sore Ike! Anpanman: Utatte Teasobi! Anpanman to...       0.317771   \n",
              "Kinnikuman: Kinnikusei Oui Soudatsu-hen                  0.000000   \n",
              "\n",
              "name                                                Puchimas!: Petit iDOLM@STER Episode 0  \\\n",
              "name                                                                                        \n",
              "Magic-Kyun! Renaissance                                                          0.246630   \n",
              "Gifuu Doudou!!: Kanetsugu to Keiji                                               0.000000   \n",
              "Jinxiu Shenzhou Zhi Qi You Ji                                                    0.000000   \n",
              "Yodaka no Hoshi                                                                  0.000000   \n",
              "The Olympic Challenge                                                            0.000000   \n",
              "Huckleberry no Bouken (Movie)                                                    0.000000   \n",
              "Ticonderonga no Iru Umi                                                          0.000000   \n",
              "Penguin Musume♥Heart                                                             0.647430   \n",
              "Sore Ike! Anpanman: Utatte Teasobi! Anpanman to...                               0.128176   \n",
              "Kinnikuman: Kinnikusei Oui Soudatsu-hen                                          0.093825   \n",
              "\n",
              "name                                                Otoko to Onna to Inu  \\\n",
              "name                                                                       \n",
              "Magic-Kyun! Renaissance                                         0.406459   \n",
              "Gifuu Doudou!!: Kanetsugu to Keiji                              0.000000   \n",
              "Jinxiu Shenzhou Zhi Qi You Ji                                   0.000000   \n",
              "Yodaka no Hoshi                                                 0.000000   \n",
              "The Olympic Challenge                                           0.000000   \n",
              "Huckleberry no Bouken (Movie)                                   0.000000   \n",
              "Ticonderonga no Iru Umi                                         0.000000   \n",
              "Penguin Musume♥Heart                                            0.123790   \n",
              "Sore Ike! Anpanman: Utatte Teasobi! Anpanman to...              0.231413   \n",
              "Kinnikuman: Kinnikusei Oui Soudatsu-hen                         0.169394   \n",
              "\n",
              "name                                                Mahou Shoujo Ai San: The Anime  \\\n",
              "name                                                                                 \n",
              "Magic-Kyun! Renaissance                                                   0.230770   \n",
              "Gifuu Doudou!!: Kanetsugu to Keiji                                        0.000000   \n",
              "Jinxiu Shenzhou Zhi Qi You Ji                                             0.000000   \n",
              "Yodaka no Hoshi                                                           0.000000   \n",
              "The Olympic Challenge                                                     0.000000   \n",
              "Huckleberry no Bouken (Movie)                                             0.000000   \n",
              "Ticonderonga no Iru Umi                                                   0.000000   \n",
              "Penguin Musume♥Heart                                                      0.200802   \n",
              "Sore Ike! Anpanman: Utatte Teasobi! Anpanman to...                        0.000000   \n",
              "Kinnikuman: Kinnikusei Oui Soudatsu-hen                                   0.000000   \n",
              "\n",
              "name                                                Shitamachi Alien PapiPipiPupi  \n",
              "name                                                                               \n",
              "Magic-Kyun! Renaissance                                                       0.0  \n",
              "Gifuu Doudou!!: Kanetsugu to Keiji                                            0.0  \n",
              "Jinxiu Shenzhou Zhi Qi You Ji                                                 0.0  \n",
              "Yodaka no Hoshi                                                               0.0  \n",
              "The Olympic Challenge                                                         0.0  \n",
              "Huckleberry no Bouken (Movie)                                                 0.0  \n",
              "Ticonderonga no Iru Umi                                                       0.0  \n",
              "Penguin Musume♥Heart                                                          0.0  \n",
              "Sore Ike! Anpanman: Utatte Teasobi! Anpanman to...                            0.0  \n",
              "Kinnikuman: Kinnikusei Oui Soudatsu-hen                                       0.0  "
            ],
            "text/html": [
              "\n",
              "  <div id=\"df-6d7fa4ee-439d-44be-be19-8c953b04988e\">\n",
              "    <div class=\"colab-df-container\">\n",
              "      <div>\n",
              "<style scoped>\n",
              "    .dataframe tbody tr th:only-of-type {\n",
              "        vertical-align: middle;\n",
              "    }\n",
              "\n",
              "    .dataframe tbody tr th {\n",
              "        vertical-align: top;\n",
              "    }\n",
              "\n",
              "    .dataframe thead th {\n",
              "        text-align: right;\n",
              "    }\n",
              "</style>\n",
              "<table border=\"1\" class=\"dataframe\">\n",
              "  <thead>\n",
              "    <tr style=\"text-align: right;\">\n",
              "      <th>name</th>\n",
              "      <th>Hong Kil-dong</th>\n",
              "      <th>Puchimas!: Petit iDOLM@STER Episode 0</th>\n",
              "      <th>Otoko to Onna to Inu</th>\n",
              "      <th>Mahou Shoujo Ai San: The Anime</th>\n",
              "      <th>Shitamachi Alien PapiPipiPupi</th>\n",
              "    </tr>\n",
              "    <tr>\n",
              "      <th>name</th>\n",
              "      <th></th>\n",
              "      <th></th>\n",
              "      <th></th>\n",
              "      <th></th>\n",
              "      <th></th>\n",
              "    </tr>\n",
              "  </thead>\n",
              "  <tbody>\n",
              "    <tr>\n",
              "      <th>Magic-Kyun! Renaissance</th>\n",
              "      <td>0.000000</td>\n",
              "      <td>0.246630</td>\n",
              "      <td>0.406459</td>\n",
              "      <td>0.230770</td>\n",
              "      <td>0.0</td>\n",
              "    </tr>\n",
              "    <tr>\n",
              "      <th>Gifuu Doudou!!: Kanetsugu to Keiji</th>\n",
              "      <td>0.235785</td>\n",
              "      <td>0.000000</td>\n",
              "      <td>0.000000</td>\n",
              "      <td>0.000000</td>\n",
              "      <td>0.0</td>\n",
              "    </tr>\n",
              "    <tr>\n",
              "      <th>Jinxiu Shenzhou Zhi Qi You Ji</th>\n",
              "      <td>0.718618</td>\n",
              "      <td>0.000000</td>\n",
              "      <td>0.000000</td>\n",
              "      <td>0.000000</td>\n",
              "      <td>0.0</td>\n",
              "    </tr>\n",
              "    <tr>\n",
              "      <th>Yodaka no Hoshi</th>\n",
              "      <td>0.337744</td>\n",
              "      <td>0.000000</td>\n",
              "      <td>0.000000</td>\n",
              "      <td>0.000000</td>\n",
              "      <td>0.0</td>\n",
              "    </tr>\n",
              "    <tr>\n",
              "      <th>The Olympic Challenge</th>\n",
              "      <td>0.000000</td>\n",
              "      <td>0.000000</td>\n",
              "      <td>0.000000</td>\n",
              "      <td>0.000000</td>\n",
              "      <td>0.0</td>\n",
              "    </tr>\n",
              "    <tr>\n",
              "      <th>Huckleberry no Bouken (Movie)</th>\n",
              "      <td>0.720647</td>\n",
              "      <td>0.000000</td>\n",
              "      <td>0.000000</td>\n",
              "      <td>0.000000</td>\n",
              "      <td>0.0</td>\n",
              "    </tr>\n",
              "    <tr>\n",
              "      <th>Ticonderonga no Iru Umi</th>\n",
              "      <td>0.465570</td>\n",
              "      <td>0.000000</td>\n",
              "      <td>0.000000</td>\n",
              "      <td>0.000000</td>\n",
              "      <td>0.0</td>\n",
              "    </tr>\n",
              "    <tr>\n",
              "      <th>Penguin Musume♥Heart</th>\n",
              "      <td>0.000000</td>\n",
              "      <td>0.647430</td>\n",
              "      <td>0.123790</td>\n",
              "      <td>0.200802</td>\n",
              "      <td>0.0</td>\n",
              "    </tr>\n",
              "    <tr>\n",
              "      <th>Sore Ike! Anpanman: Utatte Teasobi! Anpanman to Mori no Takara</th>\n",
              "      <td>0.317771</td>\n",
              "      <td>0.128176</td>\n",
              "      <td>0.231413</td>\n",
              "      <td>0.000000</td>\n",
              "      <td>0.0</td>\n",
              "    </tr>\n",
              "    <tr>\n",
              "      <th>Kinnikuman: Kinnikusei Oui Soudatsu-hen</th>\n",
              "      <td>0.000000</td>\n",
              "      <td>0.093825</td>\n",
              "      <td>0.169394</td>\n",
              "      <td>0.000000</td>\n",
              "      <td>0.0</td>\n",
              "    </tr>\n",
              "  </tbody>\n",
              "</table>\n",
              "</div>\n",
              "      <button class=\"colab-df-convert\" onclick=\"convertToInteractive('df-6d7fa4ee-439d-44be-be19-8c953b04988e')\"\n",
              "              title=\"Convert this dataframe to an interactive table.\"\n",
              "              style=\"display:none;\">\n",
              "        \n",
              "  <svg xmlns=\"http://www.w3.org/2000/svg\" height=\"24px\"viewBox=\"0 0 24 24\"\n",
              "       width=\"24px\">\n",
              "    <path d=\"M0 0h24v24H0V0z\" fill=\"none\"/>\n",
              "    <path d=\"M18.56 5.44l.94 2.06.94-2.06 2.06-.94-2.06-.94-.94-2.06-.94 2.06-2.06.94zm-11 1L8.5 8.5l.94-2.06 2.06-.94-2.06-.94L8.5 2.5l-.94 2.06-2.06.94zm10 10l.94 2.06.94-2.06 2.06-.94-2.06-.94-.94-2.06-.94 2.06-2.06.94z\"/><path d=\"M17.41 7.96l-1.37-1.37c-.4-.4-.92-.59-1.43-.59-.52 0-1.04.2-1.43.59L10.3 9.45l-7.72 7.72c-.78.78-.78 2.05 0 2.83L4 21.41c.39.39.9.59 1.41.59.51 0 1.02-.2 1.41-.59l7.78-7.78 2.81-2.81c.8-.78.8-2.07 0-2.86zM5.41 20L4 18.59l7.72-7.72 1.47 1.35L5.41 20z\"/>\n",
              "  </svg>\n",
              "      </button>\n",
              "      \n",
              "  <style>\n",
              "    .colab-df-container {\n",
              "      display:flex;\n",
              "      flex-wrap:wrap;\n",
              "      gap: 12px;\n",
              "    }\n",
              "\n",
              "    .colab-df-convert {\n",
              "      background-color: #E8F0FE;\n",
              "      border: none;\n",
              "      border-radius: 50%;\n",
              "      cursor: pointer;\n",
              "      display: none;\n",
              "      fill: #1967D2;\n",
              "      height: 32px;\n",
              "      padding: 0 0 0 0;\n",
              "      width: 32px;\n",
              "    }\n",
              "\n",
              "    .colab-df-convert:hover {\n",
              "      background-color: #E2EBFA;\n",
              "      box-shadow: 0px 1px 2px rgba(60, 64, 67, 0.3), 0px 1px 3px 1px rgba(60, 64, 67, 0.15);\n",
              "      fill: #174EA6;\n",
              "    }\n",
              "\n",
              "    [theme=dark] .colab-df-convert {\n",
              "      background-color: #3B4455;\n",
              "      fill: #D2E3FC;\n",
              "    }\n",
              "\n",
              "    [theme=dark] .colab-df-convert:hover {\n",
              "      background-color: #434B5C;\n",
              "      box-shadow: 0px 1px 3px 1px rgba(0, 0, 0, 0.15);\n",
              "      filter: drop-shadow(0px 1px 2px rgba(0, 0, 0, 0.3));\n",
              "      fill: #FFFFFF;\n",
              "    }\n",
              "  </style>\n",
              "\n",
              "      <script>\n",
              "        const buttonEl =\n",
              "          document.querySelector('#df-6d7fa4ee-439d-44be-be19-8c953b04988e button.colab-df-convert');\n",
              "        buttonEl.style.display =\n",
              "          google.colab.kernel.accessAllowed ? 'block' : 'none';\n",
              "\n",
              "        async function convertToInteractive(key) {\n",
              "          const element = document.querySelector('#df-6d7fa4ee-439d-44be-be19-8c953b04988e');\n",
              "          const dataTable =\n",
              "            await google.colab.kernel.invokeFunction('convertToInteractive',\n",
              "                                                     [key], {});\n",
              "          if (!dataTable) return;\n",
              "\n",
              "          const docLinkHtml = 'Like what you see? Visit the ' +\n",
              "            '<a target=\"_blank\" href=https://colab.research.google.com/notebooks/data_table.ipynb>data table notebook</a>'\n",
              "            + ' to learn more about interactive tables.';\n",
              "          element.innerHTML = '';\n",
              "          dataTable['output_type'] = 'display_data';\n",
              "          await google.colab.output.renderOutput(dataTable, element);\n",
              "          const docLink = document.createElement('div');\n",
              "          docLink.innerHTML = docLinkHtml;\n",
              "          element.appendChild(docLink);\n",
              "        }\n",
              "      </script>\n",
              "    </div>\n",
              "  </div>\n",
              "  "
            ]
          },
          "metadata": {},
          "execution_count": 58
        }
      ]
    },
    {
      "cell_type": "markdown",
      "source": [
        "# **Evaluasi Content-based Filtering**"
      ],
      "metadata": {
        "id": "6H8iDXg4XiSC"
      }
    },
    {
      "cell_type": "code",
      "source": [
        "def anime_recommendations(name, similarity_data=cosine_sim_df, items=anime_ovrl[['name', 'genre']], k=5):\n",
        " \n",
        "    index = similarity_data.loc[:,name].to_numpy().argpartition(\n",
        "        range(-1, -k, -1))\n",
        "    \n",
        "    # Mengambil data dengan similarity terbesar dari index yang ada\n",
        "    closest = similarity_data.columns[index[-1:-(k+2):-1]]\n",
        "    \n",
        "    # Drop name agar nama resto yang dicari tidak muncul dalam daftar rekomendasi\n",
        "    closest = closest.drop(name, errors='ignore')\n",
        " \n",
        "    return pd.DataFrame(closest).merge(items).head(k)"
      ],
      "metadata": {
        "id": "v6qPxi98iWzh"
      },
      "execution_count": null,
      "outputs": []
    },
    {
      "cell_type": "code",
      "source": [
        "anime_ovrl[anime_ovrl.name.eq('Oni')]"
      ],
      "metadata": {
        "colab": {
          "base_uri": "https://localhost:8080/",
          "height": 81
        },
        "id": "rMqMzXkMi0Z_",
        "outputId": "70195e61-e8a7-41cb-d373-42d3848077f1"
      },
      "execution_count": null,
      "outputs": [
        {
          "output_type": "execute_result",
          "data": {
            "text/plain": [
              "      anime_id name                             genre   type episodes  rating  \\\n",
              "5493      7171  Oni  Demons, Historical, Supernatural  Movie        1    6.44   \n",
              "\n",
              "      members  \n",
              "5493      950  "
            ],
            "text/html": [
              "\n",
              "  <div id=\"df-0ce02193-699a-440d-aae4-7d87b7028f3c\">\n",
              "    <div class=\"colab-df-container\">\n",
              "      <div>\n",
              "<style scoped>\n",
              "    .dataframe tbody tr th:only-of-type {\n",
              "        vertical-align: middle;\n",
              "    }\n",
              "\n",
              "    .dataframe tbody tr th {\n",
              "        vertical-align: top;\n",
              "    }\n",
              "\n",
              "    .dataframe thead th {\n",
              "        text-align: right;\n",
              "    }\n",
              "</style>\n",
              "<table border=\"1\" class=\"dataframe\">\n",
              "  <thead>\n",
              "    <tr style=\"text-align: right;\">\n",
              "      <th></th>\n",
              "      <th>anime_id</th>\n",
              "      <th>name</th>\n",
              "      <th>genre</th>\n",
              "      <th>type</th>\n",
              "      <th>episodes</th>\n",
              "      <th>rating</th>\n",
              "      <th>members</th>\n",
              "    </tr>\n",
              "  </thead>\n",
              "  <tbody>\n",
              "    <tr>\n",
              "      <th>5493</th>\n",
              "      <td>7171</td>\n",
              "      <td>Oni</td>\n",
              "      <td>Demons, Historical, Supernatural</td>\n",
              "      <td>Movie</td>\n",
              "      <td>1</td>\n",
              "      <td>6.44</td>\n",
              "      <td>950</td>\n",
              "    </tr>\n",
              "  </tbody>\n",
              "</table>\n",
              "</div>\n",
              "      <button class=\"colab-df-convert\" onclick=\"convertToInteractive('df-0ce02193-699a-440d-aae4-7d87b7028f3c')\"\n",
              "              title=\"Convert this dataframe to an interactive table.\"\n",
              "              style=\"display:none;\">\n",
              "        \n",
              "  <svg xmlns=\"http://www.w3.org/2000/svg\" height=\"24px\"viewBox=\"0 0 24 24\"\n",
              "       width=\"24px\">\n",
              "    <path d=\"M0 0h24v24H0V0z\" fill=\"none\"/>\n",
              "    <path d=\"M18.56 5.44l.94 2.06.94-2.06 2.06-.94-2.06-.94-.94-2.06-.94 2.06-2.06.94zm-11 1L8.5 8.5l.94-2.06 2.06-.94-2.06-.94L8.5 2.5l-.94 2.06-2.06.94zm10 10l.94 2.06.94-2.06 2.06-.94-2.06-.94-.94-2.06-.94 2.06-2.06.94z\"/><path d=\"M17.41 7.96l-1.37-1.37c-.4-.4-.92-.59-1.43-.59-.52 0-1.04.2-1.43.59L10.3 9.45l-7.72 7.72c-.78.78-.78 2.05 0 2.83L4 21.41c.39.39.9.59 1.41.59.51 0 1.02-.2 1.41-.59l7.78-7.78 2.81-2.81c.8-.78.8-2.07 0-2.86zM5.41 20L4 18.59l7.72-7.72 1.47 1.35L5.41 20z\"/>\n",
              "  </svg>\n",
              "      </button>\n",
              "      \n",
              "  <style>\n",
              "    .colab-df-container {\n",
              "      display:flex;\n",
              "      flex-wrap:wrap;\n",
              "      gap: 12px;\n",
              "    }\n",
              "\n",
              "    .colab-df-convert {\n",
              "      background-color: #E8F0FE;\n",
              "      border: none;\n",
              "      border-radius: 50%;\n",
              "      cursor: pointer;\n",
              "      display: none;\n",
              "      fill: #1967D2;\n",
              "      height: 32px;\n",
              "      padding: 0 0 0 0;\n",
              "      width: 32px;\n",
              "    }\n",
              "\n",
              "    .colab-df-convert:hover {\n",
              "      background-color: #E2EBFA;\n",
              "      box-shadow: 0px 1px 2px rgba(60, 64, 67, 0.3), 0px 1px 3px 1px rgba(60, 64, 67, 0.15);\n",
              "      fill: #174EA6;\n",
              "    }\n",
              "\n",
              "    [theme=dark] .colab-df-convert {\n",
              "      background-color: #3B4455;\n",
              "      fill: #D2E3FC;\n",
              "    }\n",
              "\n",
              "    [theme=dark] .colab-df-convert:hover {\n",
              "      background-color: #434B5C;\n",
              "      box-shadow: 0px 1px 3px 1px rgba(0, 0, 0, 0.15);\n",
              "      filter: drop-shadow(0px 1px 2px rgba(0, 0, 0, 0.3));\n",
              "      fill: #FFFFFF;\n",
              "    }\n",
              "  </style>\n",
              "\n",
              "      <script>\n",
              "        const buttonEl =\n",
              "          document.querySelector('#df-0ce02193-699a-440d-aae4-7d87b7028f3c button.colab-df-convert');\n",
              "        buttonEl.style.display =\n",
              "          google.colab.kernel.accessAllowed ? 'block' : 'none';\n",
              "\n",
              "        async function convertToInteractive(key) {\n",
              "          const element = document.querySelector('#df-0ce02193-699a-440d-aae4-7d87b7028f3c');\n",
              "          const dataTable =\n",
              "            await google.colab.kernel.invokeFunction('convertToInteractive',\n",
              "                                                     [key], {});\n",
              "          if (!dataTable) return;\n",
              "\n",
              "          const docLinkHtml = 'Like what you see? Visit the ' +\n",
              "            '<a target=\"_blank\" href=https://colab.research.google.com/notebooks/data_table.ipynb>data table notebook</a>'\n",
              "            + ' to learn more about interactive tables.';\n",
              "          element.innerHTML = '';\n",
              "          dataTable['output_type'] = 'display_data';\n",
              "          await google.colab.output.renderOutput(dataTable, element);\n",
              "          const docLink = document.createElement('div');\n",
              "          docLink.innerHTML = docLinkHtml;\n",
              "          element.appendChild(docLink);\n",
              "        }\n",
              "      </script>\n",
              "    </div>\n",
              "  </div>\n",
              "  "
            ]
          },
          "metadata": {},
          "execution_count": 60
        }
      ]
    },
    {
      "cell_type": "code",
      "source": [
        "anime_recommendations('Oni')"
      ],
      "metadata": {
        "colab": {
          "base_uri": "https://localhost:8080/",
          "height": 206
        },
        "id": "QaTHD4UGjOzp",
        "outputId": "c1ab9025-358d-437c-e561-f108e52f9fcb"
      },
      "execution_count": null,
      "outputs": [
        {
          "output_type": "execute_result",
          "data": {
            "text/plain": [
              "                                                name  \\\n",
              "0                       Tenpou Ibun: Ayakashi Ayashi   \n",
              "1                                             Kataku   \n",
              "2                               Sengoku Choujuu Giga   \n",
              "3                           Kujakuou: Sengoku Tensei   \n",
              "4  Chrno Crusade: Az demo Wakaru Chrno Crusade Kouza   \n",
              "\n",
              "                                               genre  \n",
              "0                   Demons, Historical, Supernatural  \n",
              "1                   Demons, Historical, Supernatural  \n",
              "2                   Demons, Historical, Supernatural  \n",
              "3           Action, Demons, Historical, Supernatural  \n",
              "4  Adventure, Comedy, Demons, Historical, Superna...  "
            ],
            "text/html": [
              "\n",
              "  <div id=\"df-b335f421-f0d6-424d-bfa5-1e3257aa8383\">\n",
              "    <div class=\"colab-df-container\">\n",
              "      <div>\n",
              "<style scoped>\n",
              "    .dataframe tbody tr th:only-of-type {\n",
              "        vertical-align: middle;\n",
              "    }\n",
              "\n",
              "    .dataframe tbody tr th {\n",
              "        vertical-align: top;\n",
              "    }\n",
              "\n",
              "    .dataframe thead th {\n",
              "        text-align: right;\n",
              "    }\n",
              "</style>\n",
              "<table border=\"1\" class=\"dataframe\">\n",
              "  <thead>\n",
              "    <tr style=\"text-align: right;\">\n",
              "      <th></th>\n",
              "      <th>name</th>\n",
              "      <th>genre</th>\n",
              "    </tr>\n",
              "  </thead>\n",
              "  <tbody>\n",
              "    <tr>\n",
              "      <th>0</th>\n",
              "      <td>Tenpou Ibun: Ayakashi Ayashi</td>\n",
              "      <td>Demons, Historical, Supernatural</td>\n",
              "    </tr>\n",
              "    <tr>\n",
              "      <th>1</th>\n",
              "      <td>Kataku</td>\n",
              "      <td>Demons, Historical, Supernatural</td>\n",
              "    </tr>\n",
              "    <tr>\n",
              "      <th>2</th>\n",
              "      <td>Sengoku Choujuu Giga</td>\n",
              "      <td>Demons, Historical, Supernatural</td>\n",
              "    </tr>\n",
              "    <tr>\n",
              "      <th>3</th>\n",
              "      <td>Kujakuou: Sengoku Tensei</td>\n",
              "      <td>Action, Demons, Historical, Supernatural</td>\n",
              "    </tr>\n",
              "    <tr>\n",
              "      <th>4</th>\n",
              "      <td>Chrno Crusade: Az demo Wakaru Chrno Crusade Kouza</td>\n",
              "      <td>Adventure, Comedy, Demons, Historical, Superna...</td>\n",
              "    </tr>\n",
              "  </tbody>\n",
              "</table>\n",
              "</div>\n",
              "      <button class=\"colab-df-convert\" onclick=\"convertToInteractive('df-b335f421-f0d6-424d-bfa5-1e3257aa8383')\"\n",
              "              title=\"Convert this dataframe to an interactive table.\"\n",
              "              style=\"display:none;\">\n",
              "        \n",
              "  <svg xmlns=\"http://www.w3.org/2000/svg\" height=\"24px\"viewBox=\"0 0 24 24\"\n",
              "       width=\"24px\">\n",
              "    <path d=\"M0 0h24v24H0V0z\" fill=\"none\"/>\n",
              "    <path d=\"M18.56 5.44l.94 2.06.94-2.06 2.06-.94-2.06-.94-.94-2.06-.94 2.06-2.06.94zm-11 1L8.5 8.5l.94-2.06 2.06-.94-2.06-.94L8.5 2.5l-.94 2.06-2.06.94zm10 10l.94 2.06.94-2.06 2.06-.94-2.06-.94-.94-2.06-.94 2.06-2.06.94z\"/><path d=\"M17.41 7.96l-1.37-1.37c-.4-.4-.92-.59-1.43-.59-.52 0-1.04.2-1.43.59L10.3 9.45l-7.72 7.72c-.78.78-.78 2.05 0 2.83L4 21.41c.39.39.9.59 1.41.59.51 0 1.02-.2 1.41-.59l7.78-7.78 2.81-2.81c.8-.78.8-2.07 0-2.86zM5.41 20L4 18.59l7.72-7.72 1.47 1.35L5.41 20z\"/>\n",
              "  </svg>\n",
              "      </button>\n",
              "      \n",
              "  <style>\n",
              "    .colab-df-container {\n",
              "      display:flex;\n",
              "      flex-wrap:wrap;\n",
              "      gap: 12px;\n",
              "    }\n",
              "\n",
              "    .colab-df-convert {\n",
              "      background-color: #E8F0FE;\n",
              "      border: none;\n",
              "      border-radius: 50%;\n",
              "      cursor: pointer;\n",
              "      display: none;\n",
              "      fill: #1967D2;\n",
              "      height: 32px;\n",
              "      padding: 0 0 0 0;\n",
              "      width: 32px;\n",
              "    }\n",
              "\n",
              "    .colab-df-convert:hover {\n",
              "      background-color: #E2EBFA;\n",
              "      box-shadow: 0px 1px 2px rgba(60, 64, 67, 0.3), 0px 1px 3px 1px rgba(60, 64, 67, 0.15);\n",
              "      fill: #174EA6;\n",
              "    }\n",
              "\n",
              "    [theme=dark] .colab-df-convert {\n",
              "      background-color: #3B4455;\n",
              "      fill: #D2E3FC;\n",
              "    }\n",
              "\n",
              "    [theme=dark] .colab-df-convert:hover {\n",
              "      background-color: #434B5C;\n",
              "      box-shadow: 0px 1px 3px 1px rgba(0, 0, 0, 0.15);\n",
              "      filter: drop-shadow(0px 1px 2px rgba(0, 0, 0, 0.3));\n",
              "      fill: #FFFFFF;\n",
              "    }\n",
              "  </style>\n",
              "\n",
              "      <script>\n",
              "        const buttonEl =\n",
              "          document.querySelector('#df-b335f421-f0d6-424d-bfa5-1e3257aa8383 button.colab-df-convert');\n",
              "        buttonEl.style.display =\n",
              "          google.colab.kernel.accessAllowed ? 'block' : 'none';\n",
              "\n",
              "        async function convertToInteractive(key) {\n",
              "          const element = document.querySelector('#df-b335f421-f0d6-424d-bfa5-1e3257aa8383');\n",
              "          const dataTable =\n",
              "            await google.colab.kernel.invokeFunction('convertToInteractive',\n",
              "                                                     [key], {});\n",
              "          if (!dataTable) return;\n",
              "\n",
              "          const docLinkHtml = 'Like what you see? Visit the ' +\n",
              "            '<a target=\"_blank\" href=https://colab.research.google.com/notebooks/data_table.ipynb>data table notebook</a>'\n",
              "            + ' to learn more about interactive tables.';\n",
              "          element.innerHTML = '';\n",
              "          dataTable['output_type'] = 'display_data';\n",
              "          await google.colab.output.renderOutput(dataTable, element);\n",
              "          const docLink = document.createElement('div');\n",
              "          docLink.innerHTML = docLinkHtml;\n",
              "          element.appendChild(docLink);\n",
              "        }\n",
              "      </script>\n",
              "    </div>\n",
              "  </div>\n",
              "  "
            ]
          },
          "metadata": {},
          "execution_count": 61
        }
      ]
    },
    {
      "cell_type": "markdown",
      "source": [
        "## **Collaborative filtering**"
      ],
      "metadata": {
        "id": "W9kYTwsAjqBI"
      }
    },
    {
      "cell_type": "code",
      "source": [
        "# Import library\n",
        "import pandas as pd\n",
        "import numpy as np \n",
        "from zipfile import ZipFile\n",
        "import tensorflow as tf\n",
        "from tensorflow import keras\n",
        "from tensorflow.keras import layers\n",
        "from pathlib import Path\n",
        "import matplotlib.pyplot as plt"
      ],
      "metadata": {
        "id": "nfzcOMKPkKFQ"
      },
      "execution_count": null,
      "outputs": []
    },
    {
      "cell_type": "code",
      "source": [
        "class RecommenderNet(tf.keras.Model):\n",
        " \n",
        "  # Insialisasi fungsi\n",
        "  def __init__(self, num_users, num_resto, embedding_size, **kwargs):\n",
        "    super(RecommenderNet, self).__init__(**kwargs)\n",
        "    self.num_users = num_users\n",
        "    self.num_resto = num_resto\n",
        "    self.embedding_size = embedding_size\n",
        "    self.user_embedding = layers.Embedding( # layer embedding user\n",
        "        num_users,\n",
        "        embedding_size,\n",
        "        embeddings_initializer = 'he_normal',\n",
        "        embeddings_regularizer = keras.regularizers.l2(1e-6)\n",
        "    )\n",
        "    self.user_bias = layers.Embedding(num_users, 1) # layer embedding user bias\n",
        "    self.resto_embedding = layers.Embedding( # layer embeddings resto\n",
        "        num_resto,\n",
        "        embedding_size,\n",
        "        embeddings_initializer = 'he_normal',\n",
        "        embeddings_regularizer = keras.regularizers.l2(1e-6)\n",
        "    )\n",
        "    self.resto_bias = layers.Embedding(num_resto, 1) # layer embedding resto bias\n",
        " \n",
        "  def call(self, inputs):\n",
        "    user_vector = self.user_embedding(inputs[:,0]) # memanggil layer embedding 1\n",
        "    user_bias = self.user_bias(inputs[:, 0]) # memanggil layer embedding 2\n",
        "    resto_vector = self.resto_embedding(inputs[:, 1]) # memanggil layer embedding 3\n",
        "    resto_bias = self.resto_bias(inputs[:, 1]) # memanggil layer embedding 4\n",
        " \n",
        "    dot_user_resto = tf.tensordot(user_vector, resto_vector, 2) \n",
        " \n",
        "    x = dot_user_resto + user_bias + resto_bias\n",
        "    \n",
        "    return tf.nn.sigmoid(x) # activation sigmoid"
      ],
      "metadata": {
        "id": "1lOZP8lejpfs"
      },
      "execution_count": null,
      "outputs": []
    },
    {
      "cell_type": "code",
      "source": [
        "model = RecommenderNet(num_users, num_anime, 50)\n",
        "model.compile(loss=tf.keras.losses.BinaryCrossentropy(), \n",
        "              optimizer=keras.optimizers.Adam(learning_rate=0.0005),\n",
        "              metrics=[tf.keras.metrics.MeanAbsoluteError()])"
      ],
      "metadata": {
        "id": "SdLxZ8yplB7Y"
      },
      "execution_count": null,
      "outputs": []
    },
    {
      "cell_type": "code",
      "source": [
        "model.summary"
      ],
      "metadata": {
        "colab": {
          "base_uri": "https://localhost:8080/"
        },
        "id": "CZjMHlo9lSNJ",
        "outputId": "0dc75203-5819-400c-b606-678ec1993d56"
      },
      "execution_count": null,
      "outputs": [
        {
          "output_type": "execute_result",
          "data": {
            "text/plain": [
              "<bound method Model.summary of <__main__.RecommenderNet object at 0x7fc29ee2f1f0>>"
            ]
          },
          "metadata": {},
          "execution_count": 65
        }
      ]
    },
    {
      "cell_type": "code",
      "source": [
        "history = model.fit(x=X_train, y=y_train,\n",
        "                    batch_size=256, epochs=10, verbose=1, \n",
        "                    validation_data=(X_test, y_test))"
      ],
      "metadata": {
        "colab": {
          "base_uri": "https://localhost:8080/"
        },
        "id": "MdJDc0DPlUOD",
        "outputId": "a05fff94-6482-44af-8b56-d598230d1273"
      },
      "execution_count": null,
      "outputs": [
        {
          "output_type": "stream",
          "name": "stdout",
          "text": [
            "Epoch 1/10\n",
            "19739/19739 [==============================] - 124s 6ms/step - loss: 0.5721 - mean_absolute_error: 0.1372 - val_loss: 0.5696 - val_mean_absolute_error: 0.1314\n",
            "Epoch 2/10\n",
            "19739/19739 [==============================] - 120s 6ms/step - loss: 0.5762 - mean_absolute_error: 0.1349 - val_loss: 0.5844 - val_mean_absolute_error: 0.1399\n",
            "Epoch 3/10\n",
            "19739/19739 [==============================] - 120s 6ms/step - loss: 0.5942 - mean_absolute_error: 0.1451 - val_loss: 0.6010 - val_mean_absolute_error: 0.1481\n",
            "Epoch 4/10\n",
            "19739/19739 [==============================] - 113s 6ms/step - loss: 0.6132 - mean_absolute_error: 0.1547 - val_loss: 0.6170 - val_mean_absolute_error: 0.1564\n",
            "Epoch 5/10\n",
            "19739/19739 [==============================] - 122s 6ms/step - loss: 0.6316 - mean_absolute_error: 0.1632 - val_loss: 0.6327 - val_mean_absolute_error: 0.1625\n",
            "Epoch 6/10\n",
            "19739/19739 [==============================] - 114s 6ms/step - loss: 0.6483 - mean_absolute_error: 0.1701 - val_loss: 0.6477 - val_mean_absolute_error: 0.1676\n",
            "Epoch 7/10\n",
            "19739/19739 [==============================] - 119s 6ms/step - loss: 0.6647 - mean_absolute_error: 0.1762 - val_loss: 0.6586 - val_mean_absolute_error: 0.1713\n",
            "Epoch 8/10\n",
            "19739/19739 [==============================] - 119s 6ms/step - loss: 0.6796 - mean_absolute_error: 0.1818 - val_loss: 0.6739 - val_mean_absolute_error: 0.1761\n",
            "Epoch 9/10\n",
            "19739/19739 [==============================] - 117s 6ms/step - loss: 0.6929 - mean_absolute_error: 0.1857 - val_loss: 0.6854 - val_mean_absolute_error: 0.1795\n",
            "Epoch 10/10\n",
            "19739/19739 [==============================] - 124s 6ms/step - loss: 0.7044 - mean_absolute_error: 0.1891 - val_loss: 0.6972 - val_mean_absolute_error: 0.1824\n"
          ]
        }
      ]
    },
    {
      "cell_type": "markdown",
      "source": [
        "# **Evaluasi Collaborative Filtering**\n",
        "\n",
        "Dalam proyek ini penulis menggunakan metrik MAE(Mean Absolute Error) untuk *collaborative filtering* yang merupakan metrik evaluasi yang digunakan untuk mengukur kesalahan atau selisih antara nilai prediksi dan nilai aktual dalam konteks pemodelan atau peramalan. MAE mengukur kesalahan rata-rata secara absolut, yaitu selisih antara nilai prediksi dan nilai aktual tanpa mempertimbangkan arah atau signifikansi dari selisih tersebut. MAE menghitung nilai absolut dari setiap selisih dan kemudian mengambil rata-rata dari seluruh nilai absolut tersebut. MAE memiliki skala yang sama dengan variabel yang diukur, sehingga lebih mudah untuk diinterpretasikan daripada metrik evaluasi lainnya seperti Mean Squared Error (MSE) yang memiliki skala kuadrat.\n",
        "\n",
        "![MAE](https://i.ibb.co/xzLxD31/mae.png)\n",
        "Gambar 6. Rumus MAE\n",
        "Rincian Sistematis rumus MAE pada Gambar 6 dapat dilihat sebagai berikut:\n",
        "\n",
        "* MAE adalah Mean Absolute Error.\n",
        "* n adalah jumlah sampel atau observasi.\n",
        "* Σ adalah simbol sigma yang menunjukkan penjumlahan.\n",
        "* yi adalah nilai aktual atau nilai yang diamati.\n",
        "* xi adalah nilai prediksi atau nilai yang diprediksi.\n",
        "\n",
        "Semakin rendah nilai MAE, semakin baik kualitas prediksi atau model yang digunakan. MAE digunakan dalam berbagai bidang seperti statistik, pemodelan data, dan machine learning untuk mengevaluasi kinerja model dalam memprediksi nilai atau variabel tertentu.\n",
        "\n",
        "Lalu untuk model yang dihasilkan MAE terukur naik secara signifikan, hal ini dapat dilihat pada Gambar 7:\n",
        "\n",
        "![Hasil MAE](https://i.ibb.co/bgGLrw6/hasil-MAE.png)\n",
        "Gambar 7. Hasil MAE Menggunakan *collaborative filtering*\n",
        "\n",
        "Pada Gambar 7 dapat dilihat kalau model *collaborative filtering* tidak cocok dengan data yang diujikan, hal ini dapat dipengaruhi beberapa faktor seperti:\n",
        "\n",
        "1. Sparsitas data: Jika data kolaboratif memiliki banyak kekosongan atau kekurangan interaksi antara pengguna dan item, ini dapat menyebabkan nilai MAE yang tinggi. Ketika terdapat sedikit informasi atau interaksi yang tersedia untuk memperkirakan preferensi pengguna, prediksi yang dihasilkan cenderung kurang akurat.\n",
        "2. Heterogenitas preferensi pengguna: Jika preferensi pengguna sangat beragam atau heterogen, ini dapat meningkatkan nilai MAE. Dalam situasi ini, sulit untuk menemukan pengguna yang memiliki preferensi yang mirip atau tetangga yang relevan untuk membuat prediksi yang akurat.\n",
        "3. Data yang tidak lengkap atau tidak akurat: Jika data kolaboratif mengandung nilai yang hilang, data yang tidak lengkap, atau kesalahan dalam nilai, hal ini dapat mengganggu kemampuan model collaborative filtering untuk memberikan prediksi yang akurat. Data yang buruk atau tidak lengkap dapat menghasilkan kesalahan dalam perhitungan kesamaan atau estimasi preferensi.\n",
        "4. Kurangnya informasi kontekstual: Collaborative filtering cenderung hanya mempertimbangkan interaksi antara pengguna dan item tanpa mempertimbangkan faktor kontekstual yang mungkin mempengaruhi preferensi pengguna. Faktor-faktor seperti waktu, lokasi, atau situasi yang dapat memengaruhi preferensi tidak dipertimbangkan secara eksplisit dalam metode collaborative filtering tradisional.\n",
        "5. Kurangnya diversitas rekomendasi: Jika sistem collaborative filtering cenderung memberikan rekomendasi yang terlalu serupa atau kurang beragam, hal ini dapat menyebabkan nilai MAE yang tinggi. Pengguna mungkin memperoleh rekomendasi yang tidak cukup bervariasi atau tidak mampu menemukan preferensi baru yang berbeda dari preferensi yang sudah ada.\n",
        "6. Masalah cold start: Masalah cold start muncul ketika sistem tidak memiliki informasi yang cukup tentang pengguna baru atau item baru. Dalam situasi ini, sulit untuk memberikan rekomendasi yang akurat karena kurangnya data riwayat atau interaksi.\n",
        "\n",
        "Mengatasi faktor-faktor ini dapat membantu dalam mengurangi nilai MAE yang tinggi pada collaborative filtering. Beberapa pendekatan termasuk penggunaan teknik pengisian nilai yang hilang, peningkatan metode penghitungan kesamaan, penggunaan metode ensemble, dan memperkaya data dengan informasi kontekstual."
      ],
      "metadata": {
        "id": "IwARW6-XXX1k"
      }
    },
    {
      "cell_type": "code",
      "source": [
        "plt.plot(history.history['mean_absolute_error'])\n",
        "plt.plot(history.history['val_mean_absolute_error'])\n",
        "plt.title('Hasil Pengujian Dengan Mean Absolute Error')\n",
        "plt.ylabel('MAE')\n",
        "plt.xlabel('EPOCH')\n",
        "plt.legend(['train', 'test'], loc='upper left')\n",
        "plt.show()"
      ],
      "metadata": {
        "id": "Xh57kufaliOR",
        "colab": {
          "base_uri": "https://localhost:8080/",
          "height": 472
        },
        "outputId": "a9b339d5-cc11-4183-833e-98c0cb97dc72"
      },
      "execution_count": null,
      "outputs": [
        {
          "output_type": "display_data",
          "data": {
            "text/plain": [
              "<Figure size 640x480 with 1 Axes>"
            ],
            "image/png": "[encoded data removed]"
          },
          "metadata": {}
        }
      ]
    },
    {
      "cell_type": "code",
      "source": [
        "user_id = 23423 # dapat diganti untuk memilih sampel user\n",
        "\n",
        "movies_df = pd.read_csv('/content/kumpulan_dataset/Anime Dataset Rekomen/anime.csv')\n",
        "\n",
        "watched_movies = df_train[df_train['user_id'] == user_id]\n",
        "\n",
        "not_watched_movies = movies_df[~movies_df['anime_id'].isin(watched_movies['anime_id'].values)]['anime_id']\n",
        "not_watched_movies = list(set(not_watched_movies).intersection(set(anime_to_anime_encoded.keys())))\n",
        "not_watched_movies = [[anime_to_anime_encoded.get(x)] for x in not_watched_movies]\n",
        "\n",
        "user_encoder = user_to_user_encoded.get(user_id)\n",
        "user_movie_array = np.hstack(([[user_encoder]] * len(not_watched_movies), not_watched_movies))\n",
        "\n",
        "pred_ratings = model.predict(user_movie_array).flatten()\n",
        "top_ratings_indices = pred_ratings.argsort()[-10:][::-1]\n",
        "recommended_movie_ids = [anime_to_anime_encoded.get(not_watched_movies[x][0]) for x in top_ratings_indices]"
      ],
      "metadata": {
        "colab": {
          "base_uri": "https://localhost:8080/"
        },
        "id": "zClLoop3tTaz",
        "outputId": "3341da00-9794-43b8-f03c-6afc6242c80c"
      },
      "execution_count": null,
      "outputs": [
        {
          "output_type": "stream",
          "name": "stdout",
          "text": [
            "305/305 [==============================] - 1s 3ms/step\n"
          ]
        }
      ]
    },
    {
      "cell_type": "code",
      "source": [
        "print('Menampilkan Rekomendasi Anime Pada User: {}'.format(user_id))\n",
        "print('===' * 9)\n",
        "print('Anime dengan Rating Tertinggi yang diinput user')\n",
        "print('----' * 8)\n",
        " \n",
        "top_movies_user = (\n",
        "    watched_movies.sort_values(\n",
        "        by='rating',\n",
        "        ascending=False\n",
        "    )\n",
        "    .head(5)\n",
        "    .anime_id.values\n",
        ")\n",
        "\n",
        "movies_df_rows = movies_df[movies_df['anime_id'].isin(top_movies_user)]\n",
        "for row in movies_df_rows.itertuples():\n",
        "    print(row.name, ':', row.genre)\n",
        "    \n",
        "print('----' * 8)\n",
        "print('10 rekomendasi anime teratas')\n",
        "print('----' * 8)\n",
        " \n",
        "recommended_movies = movies_df[movies_df['anime_id'].isin(recommended_movie_ids)]\n",
        "for row in recommended_movies.itertuples():\n",
        "    print(row.name, ':', row.genre)"
      ],
      "metadata": {
        "colab": {
          "base_uri": "https://localhost:8080/"
        },
        "id": "bX_-y6BzuS2s",
        "outputId": "65af7cb7-c71d-4cdb-dfd2-0a6c61b7f076"
      },
      "execution_count": null,
      "outputs": [
        {
          "output_type": "stream",
          "name": "stdout",
          "text": [
            "Menampilkan Rekomendasi Anime Pada User: 23423\n",
            "===========================\n",
            "Anime dengan Rating Tertinggi yang diinput user\n",
            "--------------------------------\n",
            "Onegai☆Teacher : Comedy, Drama, Romance, School, Sci-Fi\n",
            "Kidou Senkan Nadesico: The Prince of Darkness : Action, Comedy, Drama, Mecha, Psychological, Sci-Fi, Shounen, Space\n",
            "Makai Toshi Shinjuku : Adventure, Horror, Romance, Shounen, Supernatural\n",
            "--------------------------------\n",
            "10 rekomendasi anime teratas\n",
            "--------------------------------\n",
            "Onegai☆Teacher: Himitsu na Futari : Comedy, Ecchi, Romance, Sci-Fi\n",
            "Nils no Fushigi na Tabi : Adventure, Fantasy, Kids\n",
            "Nozomi Witches : Romance, Sports\n",
            "Grey: Digital Target : Action, Fantasy, Sci-Fi\n",
            "Down Load: Namu Amida Butsu wa Ai no Uta : Action, Adventure, Psychological, Sci-Fi\n",
            "Choujin Densetsu Urotsukidouji: Mirai-hen : Demons, Fantasy, Hentai, Horror, Sci-Fi\n",
            "Yukiyo Ichiya Monogatari : Hentai, Historical\n"
          ]
        }
      ]
    }
  ]
}